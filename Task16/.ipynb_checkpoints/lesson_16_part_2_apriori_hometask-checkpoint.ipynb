{
 "cells": [
  {
   "cell_type": "code",
   "execution_count": 1,
   "metadata": {},
   "outputs": [
    {
     "data": {
      "text/html": [
       "<div>\n",
       "<style scoped>\n",
       "    .dataframe tbody tr th:only-of-type {\n",
       "        vertical-align: middle;\n",
       "    }\n",
       "\n",
       "    .dataframe tbody tr th {\n",
       "        vertical-align: top;\n",
       "    }\n",
       "\n",
       "    .dataframe thead th {\n",
       "        text-align: right;\n",
       "    }\n",
       "</style>\n",
       "<table border=\"1\" class=\"dataframe\">\n",
       "  <thead>\n",
       "    <tr style=\"text-align: right;\">\n",
       "      <th></th>\n",
       "      <th>Member_number</th>\n",
       "      <th>Date</th>\n",
       "      <th>itemDescription</th>\n",
       "    </tr>\n",
       "  </thead>\n",
       "  <tbody>\n",
       "    <tr>\n",
       "      <td>0</td>\n",
       "      <td>1808</td>\n",
       "      <td>21-07-2015</td>\n",
       "      <td>tropical fruit</td>\n",
       "    </tr>\n",
       "    <tr>\n",
       "      <td>1</td>\n",
       "      <td>2552</td>\n",
       "      <td>05-01-2015</td>\n",
       "      <td>whole milk</td>\n",
       "    </tr>\n",
       "    <tr>\n",
       "      <td>2</td>\n",
       "      <td>2300</td>\n",
       "      <td>19-09-2015</td>\n",
       "      <td>pip fruit</td>\n",
       "    </tr>\n",
       "    <tr>\n",
       "      <td>3</td>\n",
       "      <td>1187</td>\n",
       "      <td>12-12-2015</td>\n",
       "      <td>other vegetables</td>\n",
       "    </tr>\n",
       "    <tr>\n",
       "      <td>4</td>\n",
       "      <td>3037</td>\n",
       "      <td>01-02-2015</td>\n",
       "      <td>whole milk</td>\n",
       "    </tr>\n",
       "  </tbody>\n",
       "</table>\n",
       "</div>"
      ],
      "text/plain": [
       "   Member_number        Date   itemDescription\n",
       "0           1808  21-07-2015    tropical fruit\n",
       "1           2552  05-01-2015        whole milk\n",
       "2           2300  19-09-2015         pip fruit\n",
       "3           1187  12-12-2015  other vegetables\n",
       "4           3037  01-02-2015        whole milk"
      ]
     },
     "execution_count": 1,
     "metadata": {},
     "output_type": "execute_result"
    }
   ],
   "source": [
    "import pandas as pd\n",
    "from apyori import apriori\n",
    "\n",
    "df = pd.read_csv('Groceries_dataset.csv')\n",
    "df.head()"
   ]
  },
  {
   "cell_type": "code",
   "execution_count": 2,
   "metadata": {},
   "outputs": [
    {
     "name": "stdout",
     "output_type": "stream",
     "text": [
      "Member_number\n",
      "3180    36\n",
      "3737    33\n",
      "3050    33\n",
      "2051    33\n",
      "2271    31\n",
      "        ..\n",
      "4451     2\n",
      "3990     2\n",
      "2213     2\n",
      "2852     2\n",
      "1368     2\n",
      "Name: Date, Length: 3898, dtype: int64\n"
     ]
    }
   ],
   "source": [
    "member_shopping_frequency = df.groupby('Member_number')['Date'].count().sort_values(ascending=False)\n",
    "print(member_shopping_frequency)"
   ]
  },
  {
   "cell_type": "code",
   "execution_count": 3,
   "metadata": {},
   "outputs": [
    {
     "data": {
      "text/plain": [
       "1629                    soda\n",
       "13331             whole milk\n",
       "8395              whole milk\n",
       "4843                 sausage\n",
       "17778     pickled vegetables\n",
       "                ...         \n",
       "34885    semi-finished bread\n",
       "25489       other vegetables\n",
       "9340            bottled beer\n",
       "27877                 onions\n",
       "3578                    soda\n",
       "Name: itemDescription, Length: 38765, dtype: object"
      ]
     },
     "execution_count": 3,
     "metadata": {},
     "output_type": "execute_result"
    }
   ],
   "source": [
    "group_same_customer = df.sort_values(by = 'Member_number',ascending = True)\n",
    "group_same_customer['itemDescription'].str.strip()"
   ]
  },
  {
   "cell_type": "code",
   "execution_count": 4,
   "metadata": {},
   "outputs": [],
   "source": [
    "transactions_list = []\n",
    "for _, group in group_same_customer.groupby('Member_number'):\n",
    "    customer_purchases = group['itemDescription'].tolist()\n",
    "    transactions_list.append(customer_purchases)"
   ]
  },
  {
   "cell_type": "code",
   "execution_count": 5,
   "metadata": {},
   "outputs": [
    {
     "data": {
      "text/plain": [
       "[RelationRecord(items=frozenset({'soups', 'Instant food products'}), support=0.001026167265264238, ordered_statistics=[OrderedStatistic(items_base=frozenset({'Instant food products'}), items_add=frozenset({'soups'}), confidence=0.06666666666666667, lift=5.413888888888889), OrderedStatistic(items_base=frozenset({'soups'}), items_add=frozenset({'Instant food products'}), confidence=0.08333333333333333, lift=5.413888888888889)]),\n",
       " RelationRecord(items=frozenset({'soft cheese', 'canned fruit'}), support=0.001026167265264238, ordered_statistics=[OrderedStatistic(items_base=frozenset({'canned fruit'}), items_add=frozenset({'soft cheese'}), confidence=0.19047619047619047, lift=5.050858438613541)]),\n",
       " RelationRecord(items=frozenset({'canned vegetables', 'rum'}), support=0.001026167265264238, ordered_statistics=[OrderedStatistic(items_base=frozenset({'rum'}), items_add=frozenset({'canned vegetables'}), confidence=0.125, lift=6.090625)]),\n",
       " RelationRecord(items=frozenset({'tea', 'cat food'}), support=0.0017957927142124167, ordered_statistics=[OrderedStatistic(items_base=frozenset({'tea'}), items_add=frozenset({'cat food'}), confidence=0.25925925925925924, lift=5.909898202295862)]),\n",
       " RelationRecord(items=frozenset({'ready soups', 'chewing gum'}), support=0.001026167265264238, ordered_statistics=[OrderedStatistic(items_base=frozenset({'ready soups'}), items_add=frozenset({'chewing gum'}), confidence=0.26666666666666666, lift=5.973946360153257)]),\n",
       " RelationRecord(items=frozenset({'cookware', 'ice cream'}), support=0.001026167265264238, ordered_statistics=[OrderedStatistic(items_base=frozenset({'cookware'}), items_add=frozenset({'ice cream'}), confidence=0.23529411764705882, lift=4.168983957219251)]),\n",
       " RelationRecord(items=frozenset({'mustard', 'curd cheese'}), support=0.0012827090815802976, ordered_statistics=[OrderedStatistic(items_base=frozenset({'curd cheese'}), items_add=frozenset({'mustard'}), confidence=0.10869565217391304, lift=4.655996177735308), OrderedStatistic(items_base=frozenset({'mustard'}), items_add=frozenset({'curd cheese'}), confidence=0.054945054945054944, lift=4.655996177735308)]),\n",
       " RelationRecord(items=frozenset({'decalcifier', 'dessert'}), support=0.001026167265264238, ordered_statistics=[OrderedStatistic(items_base=frozenset({'decalcifier'}), items_add=frozenset({'dessert'}), confidence=0.4444444444444444, lift=5.140784701615562)]),\n",
       " RelationRecord(items=frozenset({'seasonal products', 'dental care'}), support=0.001026167265264238, ordered_statistics=[OrderedStatistic(items_base=frozenset({'dental care'}), items_add=frozenset({'seasonal products'}), confidence=0.1212121212121212, lift=4.678067806780677)]),\n",
       " RelationRecord(items=frozenset({'frozen potato products', 'dog food'}), support=0.0012827090815802976, ordered_statistics=[OrderedStatistic(items_base=frozenset({'dog food'}), items_add=frozenset({'frozen potato products'}), confidence=0.07462686567164178, lift=4.040215588723051), OrderedStatistic(items_base=frozenset({'frozen potato products'}), items_add=frozenset({'dog food'}), confidence=0.06944444444444443, lift=4.040215588723051)]),\n",
       " RelationRecord(items=frozenset({'pot plants', 'female sanitary products'}), support=0.0012827090815802976, ordered_statistics=[OrderedStatistic(items_base=frozenset({'female sanitary products'}), items_add=frozenset({'pot plants'}), confidence=0.125, lift=4.200431034482759)]),\n",
       " RelationRecord(items=frozenset({'hair spray', 'frozen vegetables'}), support=0.001026167265264238, ordered_statistics=[OrderedStatistic(items_base=frozenset({'hair spray'}), items_add=frozenset({'frozen vegetables'}), confidence=0.4444444444444444, lift=4.3311111111111105)]),\n",
       " RelationRecord(items=frozenset({'hard cheese', 'light bulbs'}), support=0.0015392508978963571, ordered_statistics=[OrderedStatistic(items_base=frozenset({'light bulbs'}), items_add=frozenset({'hard cheese'}), confidence=0.21428571428571427, lift=4.0157967032967035)]),\n",
       " RelationRecord(items=frozenset({'tea', 'herbs'}), support=0.0012827090815802976, ordered_statistics=[OrderedStatistic(items_base=frozenset({'tea'}), items_add=frozenset({'herbs'}), confidence=0.18518518518518517, lift=4.7179859598160245)]),\n",
       " RelationRecord(items=frozenset({'jam', 'rice'}), support=0.001026167265264238, ordered_statistics=[OrderedStatistic(items_base=frozenset({'jam'}), items_add=frozenset({'rice'}), confidence=0.11764705882352941, lift=9.358943577430972), OrderedStatistic(items_base=frozenset({'rice'}), items_add=frozenset({'jam'}), confidence=0.08163265306122448, lift=9.358943577430972)]),\n",
       " RelationRecord(items=frozenset({'photo/film', 'liver loaf'}), support=0.001026167265264238, ordered_statistics=[OrderedStatistic(items_base=frozenset({'liver loaf'}), items_add=frozenset({'photo/film'}), confidence=0.08333333333333333, lift=4.2186147186147185), OrderedStatistic(items_base=frozenset({'photo/film'}), items_add=frozenset({'liver loaf'}), confidence=0.05194805194805194, lift=4.218614718614718)]),\n",
       " RelationRecord(items=frozenset({'oil', 'ready soups'}), support=0.0012827090815802976, ordered_statistics=[OrderedStatistic(items_base=frozenset({'ready soups'}), items_add=frozenset({'oil'}), confidence=0.3333333333333333, lift=5.987711213517665)]),\n",
       " RelationRecord(items=frozenset({'soups', 'seasonal products'}), support=0.0012827090815802976, ordered_statistics=[OrderedStatistic(items_base=frozenset({'soups'}), items_add=frozenset({'seasonal products'}), confidence=0.10416666666666666, lift=4.020214521452145)])]"
      ]
     },
     "execution_count": 5,
     "metadata": {},
     "output_type": "execute_result"
    }
   ],
   "source": [
    "association_rules = apriori(transactions_list, min_support=0.001, min_confidence=0.05, min_lift=4, min_length=2,max_length = 2)\n",
    "rules_list = list(association_rules)\n",
    "rules_list"
   ]
  },
  {
   "cell_type": "code",
   "execution_count": 6,
   "metadata": {},
   "outputs": [
    {
     "data": {
      "text/html": [
       "<div>\n",
       "<style scoped>\n",
       "    .dataframe tbody tr th:only-of-type {\n",
       "        vertical-align: middle;\n",
       "    }\n",
       "\n",
       "    .dataframe tbody tr th {\n",
       "        vertical-align: top;\n",
       "    }\n",
       "\n",
       "    .dataframe thead th {\n",
       "        text-align: right;\n",
       "    }\n",
       "</style>\n",
       "<table border=\"1\" class=\"dataframe\">\n",
       "  <thead>\n",
       "    <tr style=\"text-align: right;\">\n",
       "      <th></th>\n",
       "      <th>antecedent</th>\n",
       "      <th>consequent</th>\n",
       "      <th>Support</th>\n",
       "      <th>Confidence</th>\n",
       "      <th>Lift</th>\n",
       "    </tr>\n",
       "  </thead>\n",
       "  <tbody>\n",
       "    <tr>\n",
       "      <td>0</td>\n",
       "      <td>Instant food products</td>\n",
       "      <td>soups</td>\n",
       "      <td>0.001026</td>\n",
       "      <td>0.066667</td>\n",
       "      <td>5.413889</td>\n",
       "    </tr>\n",
       "    <tr>\n",
       "      <td>1</td>\n",
       "      <td>canned fruit</td>\n",
       "      <td>soft cheese</td>\n",
       "      <td>0.001026</td>\n",
       "      <td>0.190476</td>\n",
       "      <td>5.050858</td>\n",
       "    </tr>\n",
       "    <tr>\n",
       "      <td>2</td>\n",
       "      <td>rum</td>\n",
       "      <td>canned vegetables</td>\n",
       "      <td>0.001026</td>\n",
       "      <td>0.125000</td>\n",
       "      <td>6.090625</td>\n",
       "    </tr>\n",
       "    <tr>\n",
       "      <td>3</td>\n",
       "      <td>tea</td>\n",
       "      <td>cat food</td>\n",
       "      <td>0.001796</td>\n",
       "      <td>0.259259</td>\n",
       "      <td>5.909898</td>\n",
       "    </tr>\n",
       "    <tr>\n",
       "      <td>4</td>\n",
       "      <td>ready soups</td>\n",
       "      <td>chewing gum</td>\n",
       "      <td>0.001026</td>\n",
       "      <td>0.266667</td>\n",
       "      <td>5.973946</td>\n",
       "    </tr>\n",
       "    <tr>\n",
       "      <td>5</td>\n",
       "      <td>cookware</td>\n",
       "      <td>ice cream</td>\n",
       "      <td>0.001026</td>\n",
       "      <td>0.235294</td>\n",
       "      <td>4.168984</td>\n",
       "    </tr>\n",
       "    <tr>\n",
       "      <td>6</td>\n",
       "      <td>curd cheese</td>\n",
       "      <td>mustard</td>\n",
       "      <td>0.001283</td>\n",
       "      <td>0.108696</td>\n",
       "      <td>4.655996</td>\n",
       "    </tr>\n",
       "    <tr>\n",
       "      <td>7</td>\n",
       "      <td>decalcifier</td>\n",
       "      <td>dessert</td>\n",
       "      <td>0.001026</td>\n",
       "      <td>0.444444</td>\n",
       "      <td>5.140785</td>\n",
       "    </tr>\n",
       "    <tr>\n",
       "      <td>8</td>\n",
       "      <td>dental care</td>\n",
       "      <td>seasonal products</td>\n",
       "      <td>0.001026</td>\n",
       "      <td>0.121212</td>\n",
       "      <td>4.678068</td>\n",
       "    </tr>\n",
       "    <tr>\n",
       "      <td>9</td>\n",
       "      <td>dog food</td>\n",
       "      <td>frozen potato products</td>\n",
       "      <td>0.001283</td>\n",
       "      <td>0.074627</td>\n",
       "      <td>4.040216</td>\n",
       "    </tr>\n",
       "  </tbody>\n",
       "</table>\n",
       "</div>"
      ],
      "text/plain": [
       "              antecedent              consequent   Support  Confidence  \\\n",
       "0  Instant food products                   soups  0.001026    0.066667   \n",
       "1           canned fruit             soft cheese  0.001026    0.190476   \n",
       "2                    rum       canned vegetables  0.001026    0.125000   \n",
       "3                    tea                cat food  0.001796    0.259259   \n",
       "4            ready soups             chewing gum  0.001026    0.266667   \n",
       "5               cookware               ice cream  0.001026    0.235294   \n",
       "6            curd cheese                 mustard  0.001283    0.108696   \n",
       "7            decalcifier                 dessert  0.001026    0.444444   \n",
       "8            dental care       seasonal products  0.001026    0.121212   \n",
       "9               dog food  frozen potato products  0.001283    0.074627   \n",
       "\n",
       "       Lift  \n",
       "0  5.413889  \n",
       "1  5.050858  \n",
       "2  6.090625  \n",
       "3  5.909898  \n",
       "4  5.973946  \n",
       "5  4.168984  \n",
       "6  4.655996  \n",
       "7  5.140785  \n",
       "8  4.678068  \n",
       "9  4.040216  "
      ]
     },
     "execution_count": 6,
     "metadata": {},
     "output_type": "execute_result"
    }
   ],
   "source": [
    "def apriori_df(results):\n",
    "    extracted_data = []\n",
    "\n",
    "    for result in results:\n",
    "        items_base = tuple(result.ordered_statistics[0].items_base)[0]\n",
    "        items_add = tuple(result.ordered_statistics[0].items_add)[0]\n",
    "        support = result.support\n",
    "        confidence = result.ordered_statistics[0].confidence\n",
    "        lift = result.ordered_statistics[0].lift\n",
    "\n",
    "        extracted_data.append((items_base, items_add, support, confidence, lift))\n",
    "\n",
    "    return extracted_data\n",
    "\n",
    "resultsinDataFrame = pd.DataFrame(apriori_df(rules_list), columns = ['antecedent', 'consequent', 'Support', 'Confidence', 'Lift'])\n",
    "resultsinDataFrame[:10]"
   ]
  },
  {
   "cell_type": "code",
   "execution_count": null,
   "metadata": {},
   "outputs": [],
   "source": []
  }
 ],
 "metadata": {
  "kernelspec": {
   "display_name": "Python 3",
   "language": "python",
   "name": "python3"
  },
  "language_info": {
   "codemirror_mode": {
    "name": "ipython",
    "version": 3
   },
   "file_extension": ".py",
   "mimetype": "text/x-python",
   "name": "python",
   "nbconvert_exporter": "python",
   "pygments_lexer": "ipython3",
   "version": "3.7.6"
  }
 },
 "nbformat": 4,
 "nbformat_minor": 4
}
