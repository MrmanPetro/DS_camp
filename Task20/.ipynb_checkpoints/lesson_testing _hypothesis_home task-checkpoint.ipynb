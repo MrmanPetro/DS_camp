{
 "cells": [
  {
   "cell_type": "markdown",
   "metadata": {},
   "source": [
    "# Hypothesis testing \n",
    "\n",
    "Syllabus \n",
    "\n",
    "\n",
    "- Descrete random variables and their characteristics \n",
    "- Continous random variables \n",
    "- Normal distribution \n",
    "- Sampling \n",
    "- Statistical analysis \n",
    "- Central limit theorem \n",
    "\n",
    "\n",
    "- Statistical estimation and confidence intervals \n",
    "- Hypothesis testing: solving problems with proportions\n",
    "- Computing minimum size of sample dataset\n",
    "- Student’s distribution (t-distribution)\n",
    "\n"
   ]
  },
  {
   "cell_type": "markdown",
   "metadata": {},
   "source": [
    "# Random variable\n",
    "\n",
    "Random variable is the variable that at testing acquires the **one from all possible values with some probability**.\n",
    "<br>It is not known in advance what concrete possible value it will acquire because it depends on **random causes**.\n",
    "\n",
    "A random variable can be either **discrete** (having specific values) or **continuous** (any value in a continuous range)."
   ]
  },
  {
   "cell_type": "markdown",
   "metadata": {},
   "source": [
    "# Distributions\n",
    "\n",
    "A statistical distribution, or probability distribution, describes **how values of random variable are distributed** - it shows which **values are common and uncommon**\n",
    "\n",
    "In other words, probability distribution it is the mapping between the possible values and probabilities."
   ]
  },
  {
   "cell_type": "markdown",
   "metadata": {},
   "source": [
    "\n",
    "## Discrete Distribution vs. Continous Distribution\n",
    "\n",
    "Discrete distribution is one that represents the **discrete variables**, then a continuous distribution is one that graphs **continuous variables**.\n",
    "\n",
    "## Discrete Distributions\n",
    "\n",
    "Table format presenting of **discrete variable** of flipping 2 dice:\n",
    "<table style=\"width:60%\">\n",
    "    <tr>\n",
    "        <td>$X$</td>\n",
    "        <td>2 </td>\n",
    "        <td>3 </td>\n",
    "        <td>4</td>\n",
    "        <td>5 </td>\n",
    "        <td>6 </td>\n",
    "        <td>7 </td>\n",
    "        <td>8 </td>\n",
    "        <td>9</td>\n",
    "        <td>10 </td>\n",
    "        <td>11 </td>\n",
    "        <td>12 </td>\n",
    "    </tr>\n",
    "    <tr>\n",
    "        <td>$P$</td>\n",
    "        <td>1/36 </td>\n",
    "        <td>2/36 </td>\n",
    "        <td>3/36</td>\n",
    "        <td>4/36 </td>\n",
    "        <td>5/36 </td>\n",
    "        <td>6/36 </td>\n",
    "        <td>5/36 </td>\n",
    "        <td>4/36</td>\n",
    "        <td>3/36 </td>\n",
    "        <td>2/36 </td>\n",
    "        <td>1/36 </td>\n",
    "    </tr>\n",
    "    </table>\n",
    "\n",
    "\n",
    "The distribution may be presented in analytical format - expression: \n",
    "$$p_{k} = P(X=x_k), k= \\overline{(1,n)}$$\n",
    "\n"
   ]
  },
  {
   "cell_type": "markdown",
   "metadata": {},
   "source": [
    "### Uniform distribution \n",
    "$$p_{k} =1/n, k= \\overline{(1,n)}$$"
   ]
  },
  {
   "cell_type": "markdown",
   "metadata": {},
   "source": [
    "### Binomial Distribution\n",
    "\n",
    "`Bernoulli's trials` (`Binomial Trials`) are those trials in probability where only two possible outcomes are `Success` and `Failure` or `True` and `False`.\n",
    "\n",
    "Binomial Distribution is the sequence of independent experiments with each experiment being a binomial trial.\n",
    "\n",
    "$X$ is the random variable that rpresents the number of occurrences of the event in $n$ trials.\n",
    "\n",
    "\n",
    "$$p_{m+1}=P(X=m) = C_{n}^m p^m q^{n-m}, \\quad m= (\\overline{0,n}), \\quad q= 1-p$$\n",
    "\n",
    "$C_{n}^m$ - number of combinations:\n",
    "$$C_{n}^m = \\frac{n!}{m! (n-m)!}$$\n"
   ]
  },
  {
   "cell_type": "markdown",
   "metadata": {},
   "source": [
    "#### manual calcuulation of factorial "
   ]
  },
  {
   "cell_type": "code",
   "execution_count": 1,
   "metadata": {},
   "outputs": [
    {
     "data": {
      "text/plain": [
       "(6, 720)"
      ]
     },
     "execution_count": 1,
     "metadata": {},
     "output_type": "execute_result"
    }
   ],
   "source": [
    "def factorial(n): \n",
    "    fact = 1\n",
    "    for i in range(1, n+1):\n",
    "        fact = fact * i\n",
    "    return fact\n",
    "factorial(3), factorial(6)"
   ]
  },
  {
   "cell_type": "markdown",
   "metadata": {},
   "source": [
    "#### factorial implementation from `math`"
   ]
  },
  {
   "cell_type": "code",
   "execution_count": 2,
   "metadata": {},
   "outputs": [
    {
     "data": {
      "text/plain": [
       "720"
      ]
     },
     "execution_count": 2,
     "metadata": {},
     "output_type": "execute_result"
    }
   ],
   "source": [
    "import math\n",
    "math.factorial(6)"
   ]
  },
  {
   "cell_type": "markdown",
   "metadata": {},
   "source": [
    "#### manual combinations number"
   ]
  },
  {
   "cell_type": "code",
   "execution_count": 3,
   "metadata": {},
   "outputs": [
    {
     "data": {
      "text/plain": [
       "10"
      ]
     },
     "execution_count": 3,
     "metadata": {},
     "output_type": "execute_result"
    }
   ],
   "source": [
    "def combinations(m,n):\n",
    "    return int (factorial(n)/factorial(m)/factorial(n-m))\n",
    "\n",
    "combinations(m=3,n=5)"
   ]
  },
  {
   "cell_type": "markdown",
   "metadata": {},
   "source": [
    "#### implementation of combinations number from `itertools`\n",
    "It provides not the number but real combinations "
   ]
  },
  {
   "cell_type": "code",
   "execution_count": 4,
   "metadata": {},
   "outputs": [
    {
     "data": {
      "text/plain": [
       "(10,\n",
       " [(0, 1, 2),\n",
       "  (0, 1, 3),\n",
       "  (0, 1, 4),\n",
       "  (0, 2, 3),\n",
       "  (0, 2, 4),\n",
       "  (0, 3, 4),\n",
       "  (1, 2, 3),\n",
       "  (1, 2, 4),\n",
       "  (1, 3, 4),\n",
       "  (2, 3, 4)])"
      ]
     },
     "execution_count": 4,
     "metadata": {},
     "output_type": "execute_result"
    }
   ],
   "source": [
    "import numpy as np\n",
    "import itertools\n",
    "m = 3\n",
    "n = 5 \n",
    "data = np.arange (n)\n",
    "combinations_iter = list(itertools.combinations(data, m))\n",
    "len(combinations_iter), combinations_iter "
   ]
  },
  {
   "cell_type": "markdown",
   "metadata": {},
   "source": [
    "####  manual implementation of binomial distribution probability \n"
   ]
  },
  {
   "cell_type": "code",
   "execution_count": 5,
   "metadata": {},
   "outputs": [
    {
     "data": {
      "text/plain": [
       "0.06385228185599999"
      ]
     },
     "execution_count": 5,
     "metadata": {},
     "output_type": "execute_result"
    }
   ],
   "source": [
    "def binomial_prob(m,n,p):\n",
    "    return combinations(m,n) * p**m * (1-p)**(n-m)\n",
    "\n",
    "binomial_prob(m=10,n = 12, p=0.6)  "
   ]
  },
  {
   "cell_type": "markdown",
   "metadata": {},
   "source": [
    "#### implementation of binomial distribution probability  from `scipy`\n"
   ]
  },
  {
   "cell_type": "code",
   "execution_count": 6,
   "metadata": {},
   "outputs": [
    {
     "data": {
      "text/plain": [
       "0.06385228185599987"
      ]
     },
     "execution_count": 6,
     "metadata": {},
     "output_type": "execute_result"
    }
   ],
   "source": [
    "from scipy.stats import binom\n",
    "binom.pmf(k=10, n=12, p=0.6)"
   ]
  },
  {
   "cell_type": "markdown",
   "metadata": {},
   "source": [
    "#### check normalization of distribution \n",
    "\n",
    "$$\\sum p_k=1 $$  "
   ]
  },
  {
   "cell_type": "code",
   "execution_count": 7,
   "metadata": {},
   "outputs": [
    {
     "name": "stdout",
     "output_type": "stream",
     "text": [
      "check:  1.0000000000000007\n"
     ]
    },
    {
     "data": {
      "text/plain": [
       "[0.00010485760000000014,\n",
       " 0.0015728640000000028,\n",
       " 0.010616832,\n",
       " 0.04246732800000004,\n",
       " 0.11147673600000013,\n",
       " 0.20065812480000034,\n",
       " 0.2508226560000002,\n",
       " 0.21499084800000012,\n",
       " 0.12093235199999994,\n",
       " 0.04031078400000004,\n",
       " 0.0060466176]"
      ]
     },
     "execution_count": 7,
     "metadata": {},
     "output_type": "execute_result"
    }
   ],
   "source": [
    "n = 10\n",
    "bin_distr = [binom.pmf(k=m, n=n, p=0.6) for m in range(n+1)] # n+1 due to the case of n occurrences from n trials \n",
    "print ('check: ', sum(bin_distr))\n",
    "bin_distr"
   ]
  },
  {
   "cell_type": "code",
   "execution_count": 8,
   "metadata": {},
   "outputs": [
    {
     "name": "stdout",
     "output_type": "stream",
     "text": [
      "check:  1.0\n"
     ]
    },
    {
     "data": {
      "text/plain": [
       "[0.00010485760000000006,\n",
       " 0.0015728640000000006,\n",
       " 0.010616832000000005,\n",
       " 0.042467328000000006,\n",
       " 0.11147673600000003,\n",
       " 0.20065812480000003,\n",
       " 0.25082265600000003,\n",
       " 0.21499084799999998,\n",
       " 0.12093235199999998,\n",
       " 0.04031078399999999,\n",
       " 0.006046617599999997]"
      ]
     },
     "execution_count": 8,
     "metadata": {},
     "output_type": "execute_result"
    }
   ],
   "source": [
    "# Lets check manual implementation\n",
    "n = 10\n",
    "bin_distr = [binomial_prob(m,n,p=0.6) for m in range(n+1)] \n",
    "print ('check: ', sum(bin_distr))\n",
    "bin_distr"
   ]
  },
  {
   "cell_type": "markdown",
   "metadata": {},
   "source": [
    "### Geometrical distribution\n",
    "\n",
    "$X$ is the random variable that represents the number of `Bernoulli's trials` till the event occurred.\n",
    "\n",
    "$$p_{n}=q^{n-1}p, \\quad n= (\\overline{1,\\infty})$$\n",
    "\n",
    "$p$ - probability of event in each independent trial \n"
   ]
  },
  {
   "cell_type": "markdown",
   "metadata": {},
   "source": [
    "### Characteristics of descrete distributions\n",
    "\n",
    "Expected Value (*математичне сподівання*) \n",
    "$$ M(X) = \\sum x_i  p_i $$ \n",
    "\n",
    "$i$ may be from $1$ to $n$  for finite set of values  or from $1$ to $\\infty$ in case of countable infinite set of values\n",
    "\n",
    "Dispersion:\n",
    "$$ D(X) = M[X-M(X)]^2 = M[X^2]- [M(X)]^2  = \\sum x_i^2  p_i  - [M(X)]^2$$ \n",
    "\n",
    "Standard deviation: \n",
    "$$ \\sigma(X) = \\sqrt {D(X)}$$\n"
   ]
  },
  {
   "cell_type": "markdown",
   "metadata": {},
   "source": [
    "#### Characteristics of uniform distribution  \n",
    "$$ M(X) = \\frac{n+1}{1},  \\quad  D(X) = \\frac{n^2-1}{2}$$\n",
    "\n",
    "#### Characteristics of binomial distribution\n",
    "$$ M(X) = np,  \\quad  D(X) = npq$$\n",
    "\n",
    "#### Characteristics of geometrical distribution\n",
    "$$ M(X) = \\frac{1}{p},  \\quad  D(X) = \\frac {q}{p^2}$$\n"
   ]
  },
  {
   "cell_type": "markdown",
   "metadata": {},
   "source": [
    "## Continuos Distributions\n",
    "\n",
    "### Cumulative distribution function (функція розподілу ймовірностей)\n",
    "`CDF` is the probability of random variable `X` will acquire the value less than argument `x`\n",
    "$$F(x) = P(X<x) $$\n",
    "\n",
    "Note: \n",
    "-  CDF is non-decreasing function: for $x1 < x_2$ leads to $F(x1) \\geq F(x_2)$ \n",
    "- $P(a \\leq X \\leq b) = F(b)- F(a)$  \n",
    "- Probability of random variable `X` will acquire the ceratin value $x_1$ :  $P(X = x_1) = 0$. It means when $X$ is continuous, we can ignore  the endpoints of intervals while finding probabilities of continuous random variables  \n",
    "\n",
    "### Probability density function (густина розподілу ймовірностей)\n",
    "\n",
    "`PDF` is function $f(x)$ which is derivative of $F(x)$: $f(x) = F'(x)$\n",
    "\n",
    "Note: \n",
    "- $\\int_{-\\infty}^{\\infty} f(x) \\,dx = 1 $\n",
    "\n",
    "- $P(a \\leq X \\leq b) = \\int_{a}^{b} f(x) \\,dx$\n"
   ]
  },
  {
   "cell_type": "markdown",
   "metadata": {},
   "source": [
    "<img src = \"pdf.jpg\" height=500 width= 500 align=\"left\">\n"
   ]
  },
  {
   "cell_type": "markdown",
   "metadata": {},
   "source": [
    "### Characteristics of continuos distributions\n",
    "\n",
    "\n",
    "Expected Value (*математичне сподівання*) \n",
    "$$ M(X) = \\int_{-\\infty}^{\\infty} x f(x) \\,dx $$ \n",
    "\n",
    "$i$ may be from $1$ to $n$  for finite set of values  or from $1$ to $\\infty$ in case of countable infinite set of values\n",
    "\n",
    "Dispersion:\n",
    "$$ D(X) = \\int_{-\\infty}^{\\infty}[X-M(X)] ^2 f(x)  \\,dx   =  \\int_{-\\infty}^{\\infty}x^2 f(x)  \\,dx - [M(X)]^2$$ \n",
    "\n",
    "Standard deviation: \n",
    "$$ \\sigma(X) = \\sqrt {D(X)}$$\n"
   ]
  },
  {
   "cell_type": "markdown",
   "metadata": {},
   "source": [
    "### Normal distribution \n",
    "\n",
    "$$ f(x)= \\frac{1}{\\sigma \\sqrt{2\\pi}} e^{-\\frac{(x-a)^2}{2\\sigma^2}}$$\n",
    "\n",
    "Note: \n",
    "$$a= M(x), \\sigma= \\sigma(X)$$\n",
    "\n",
    "**Standard** Normal distribution Curve ($a=0, \\sigma=1$) \n",
    "$$ f(x)= \\frac{1}{ \\sqrt{2\\pi}} e^{-\\frac{x^2}{2}}$$"
   ]
  },
  {
   "cell_type": "markdown",
   "metadata": {},
   "source": [
    "#### Normal distribution curve (Gauss curve or Bell curve)"
   ]
  },
  {
   "cell_type": "code",
   "execution_count": 9,
   "metadata": {},
   "outputs": [
    {
     "data": {
      "text/plain": [
       "(1.4867195147342979e-06,\n",
       " 0.24197072451914337,\n",
       " 0.3989422804014327,\n",
       " 0.24197072451914337,\n",
       " 0.05399096651318806,\n",
       " 1.4867195147342979e-06)"
      ]
     },
     "execution_count": 9,
     "metadata": {},
     "output_type": "execute_result"
    }
   ],
   "source": [
    "import numpy as np \n",
    "import matplotlib.pyplot as plt\n",
    "\n",
    "def f_gauss(x):\n",
    "    return np.exp(-x**2 / 2)/ np.sqrt(2*np.pi)\n",
    "\n",
    "f_gauss(-5),f_gauss(-1), f_gauss(0),  f_gauss(1), f_gauss(2), f_gauss(5)"
   ]
  },
  {
   "cell_type": "code",
   "execution_count": 10,
   "metadata": {
    "scrolled": false
   },
   "outputs": [
    {
     "data": {
      "text/plain": [
       "[<matplotlib.lines.Line2D at 0x2d5d0cd2908>]"
      ]
     },
     "execution_count": 10,
     "metadata": {},
     "output_type": "execute_result"
    },
    {
     "data": {
      "image/png": "[encoded data removed]",
      "text/plain": [
       "<Figure size 432x288 with 1 Axes>"
      ]
     },
     "metadata": {
      "needs_background": "light"
     },
     "output_type": "display_data"
    }
   ],
   "source": [
    "fig, ax = plt.subplots(1, 1)\n",
    "x = np.linspace(-4 ,4, 100)\n",
    "ax.plot(x, f_gauss(x),'b-', lw=5, alpha=0.6, label='Gauss')"
   ]
  },
  {
   "cell_type": "markdown",
   "metadata": {},
   "source": [
    "For normal distribution, the **probability of random variable `X` will acquire the  value from interval $(\\alpha,\\beta)$** is calculated be the following formula: \n",
    "$$P(\\alpha \\leq X \\leq \\beta) = \\Phi(\\frac{\\beta-a}{\\sigma})-\\Phi ( \\frac{\\alpha-a}{\\sigma}) $$"
   ]
  },
  {
   "cell_type": "markdown",
   "metadata": {},
   "source": [
    "Here the $ \\Phi(z)$ is the **Laplas** Function, which is calculated as integral:\n",
    "\n",
    "$$ \\Phi(z)=  \\int_0^{z}f(x) dx = \\frac{1}{\\sqrt{2\\pi}}\\int_0^{z}e^{-\\frac{x^2}{2}}dx$$\n",
    "\n",
    "\n"
   ]
  },
  {
   "cell_type": "code",
   "execution_count": 11,
   "metadata": {
    "scrolled": true
   },
   "outputs": [
    {
     "data": {
      "text/plain": [
       "[<matplotlib.lines.Line2D at 0x2d5d1567fc8>]"
      ]
     },
     "execution_count": 11,
     "metadata": {},
     "output_type": "execute_result"
    },
    {
     "data": {
      "image/png": "[encoded data removed]",
      "text/plain": [
       "<Figure size 432x288 with 1 Axes>"
      ]
     },
     "metadata": {
      "needs_background": "light"
     },
     "output_type": "display_data"
    }
   ],
   "source": [
    "from scipy import integrate\n",
    "import numpy as np\n",
    "\n",
    "\n",
    "def f_gauss(x):\n",
    "    return np.exp(-x**2 / 2)/ np.sqrt(2*np.pi)\n",
    "\n",
    "def f_laplas(z): \n",
    "      return integrate.quad(f_gauss, 0.0, z) [0]\n",
    "\n",
    "v_laplas= np.vectorize (f_laplas)\n",
    "z = np.linspace(0 ,5, 100)\n",
    "\n",
    "# v_laplas(z)\n",
    "\n",
    "fig, ax = plt.subplots(1, 1)\n",
    "# shifted to 0.5 since Laplas function is calculated from 0 to z, so for negative z \n",
    "# proper ap[proach would be to calculate the integral from -inf to value\n",
    "ax.plot(z, v_laplas(z)+0.5,'g-', lw=5, alpha=0.6, label='Gauss')\n",
    "ax.plot(-z, -v_laplas(z)+0.5,'g-', lw=5, alpha=0.6, label='Gauss')"
   ]
  },
  {
   "cell_type": "markdown",
   "metadata": {},
   "source": [
    "The **Laplas** Function represents the area under Normal distribution curve"
   ]
  },
  {
   "cell_type": "code",
   "execution_count": 12,
   "metadata": {
    "scrolled": true
   },
   "outputs": [
    {
     "data": {
      "text/plain": [
       "Text(1, 0.35, 'f(x)')"
      ]
     },
     "execution_count": 12,
     "metadata": {},
     "output_type": "execute_result"
    },
    {
     "data": {
      "image/png": "[encoded data removed]",
      "text/plain": [
       "<Figure size 432x288 with 1 Axes>"
      ]
     },
     "metadata": {
      "needs_background": "light"
     },
     "output_type": "display_data"
    }
   ],
   "source": [
    "alpha, beta  = -0.5,1.5\n",
    "fig, ax = plt.subplots(1, 1)\n",
    "x = np.linspace(-3 ,3, 100)\n",
    "ax.plot(x, f_gauss(x),'b-', lw=2, alpha=0.6, label='Gauss')\n",
    "x_range = x[(x>alpha)&(x<beta)]\n",
    "ax.fill_between(x_range, 0,f_gauss(x_range) , facecolors='green',alpha=0.45)  \n",
    "ax.text(alpha, -0.05 ,'\\u03B1', ha= 'right', va= 'bottom',color= 'green',fontsize= 14)\n",
    "ax.text(beta, -0.05 ,'\\u03B2' , ha= 'right', va= 'bottom',color= 'green',fontsize= 14)\n",
    "ax.text(1, 0.35 ,'f(x)', ha= 'right', va= 'bottom',color= 'blue',fontsize= 14)\n",
    "\n"
   ]
  },
  {
   "cell_type": "markdown",
   "metadata": {},
   "source": [
    "The probability of deviation of normally distributed random variable from $a$ not more than $\\epsilon$ could be calculated by the formula: \n",
    "\n",
    "$$P(|X-a| < \\epsilon) = 2 \\Phi(\\frac{\\epsilon}{\\sigma})$$"
   ]
  },
  {
   "cell_type": "code",
   "execution_count": 13,
   "metadata": {
    "scrolled": true
   },
   "outputs": [
    {
     "data": {
      "text/plain": [
       "Text(1, 0.35, 'f(x)')"
      ]
     },
     "execution_count": 13,
     "metadata": {},
     "output_type": "execute_result"
    },
    {
     "data": {
      "image/png": "[encoded data removed]",
      "text/plain": [
       "<Figure size 432x288 with 1 Axes>"
      ]
     },
     "metadata": {
      "needs_background": "light"
     },
     "output_type": "display_data"
    }
   ],
   "source": [
    "eps  = 1\n",
    "fig, ax = plt.subplots(1, 1)\n",
    "x = np.linspace(-3 ,3, 100)\n",
    "ax.plot(x, f_gauss(x),'b-', lw=2, alpha=0.6, label='Gauss')\n",
    "x_range = x[(x>-eps)&(x<eps)]\n",
    "ax.fill_between(x_range, 0,f_gauss(x_range) , facecolors='green',alpha=0.45)  \n",
    "ax.text(-eps, 0 ,'a-\\u03B5', ha= 'right', va= 'bottom',color= 'black',fontsize= 14)\n",
    "ax.text(eps, 0 ,'a+\\u03B5', ha= 'left', va= 'bottom',color= 'black',fontsize= 14)\n",
    "ax.text(0, 0 ,'a', ha= 'center', va= 'bottom',color= 'black',fontsize= 14)\n",
    "ax.text(1, 0.35 ,'f(x)', ha= 'right', va= 'bottom',color= 'blue',fontsize= 14)\n",
    "\n"
   ]
  },
  {
   "cell_type": "markdown",
   "metadata": {},
   "source": [
    "#### Implementation of `pdf`  and `cdf`   from `scipy`\n"
   ]
  },
  {
   "cell_type": "markdown",
   "metadata": {},
   "source": [
    "#### `pdf` implemenation "
   ]
  },
  {
   "cell_type": "code",
   "execution_count": 14,
   "metadata": {},
   "outputs": [
    {
     "data": {
      "text/plain": [
       "0.3989422804014327"
      ]
     },
     "execution_count": 14,
     "metadata": {},
     "output_type": "execute_result"
    }
   ],
   "source": [
    "from scipy.stats import norm\n",
    "norm.pdf(0) # probabilistic density fuction "
   ]
  },
  {
   "cell_type": "code",
   "execution_count": 15,
   "metadata": {
    "scrolled": false
   },
   "outputs": [
    {
     "data": {
      "text/plain": [
       "[<matplotlib.lines.Line2D at 0x2d5d16ef788>]"
      ]
     },
     "execution_count": 15,
     "metadata": {},
     "output_type": "execute_result"
    },
    {
     "data": {
      "image/png": "[encoded data removed]",
      "text/plain": [
       "<Figure size 432x288 with 1 Axes>"
      ]
     },
     "metadata": {
      "needs_background": "light"
     },
     "output_type": "display_data"
    }
   ],
   "source": [
    "import matplotlib.pyplot as plt\n",
    "import numpy as np\n",
    "fig, ax = plt.subplots(1, 1)\n",
    "\n",
    "x = np.linspace(-4,4, 100)\n",
    "\n",
    "ax.plot(x, norm.pdf(x),'r-', lw=5, alpha=0.6, label='norm pdf')"
   ]
  },
  {
   "cell_type": "markdown",
   "metadata": {},
   "source": [
    "#### `cdf` implemenation \n",
    "\n",
    "Area "
   ]
  },
  {
   "cell_type": "code",
   "execution_count": 16,
   "metadata": {},
   "outputs": [
    {
     "data": {
      "text/plain": [
       "(0.15865525393145707, 0.5, 0.8413447460685429)"
      ]
     },
     "execution_count": 16,
     "metadata": {},
     "output_type": "execute_result"
    }
   ],
   "source": [
    "norm.cdf(-1),  norm.cdf(0),  norm.cdf(1)"
   ]
  },
  {
   "cell_type": "code",
   "execution_count": 17,
   "metadata": {},
   "outputs": [
    {
     "data": {
      "text/plain": [
       "array([3.16712418e-05, 4.44231742e-05, 6.19233895e-05, 8.57837169e-05,\n",
       "       1.18103990e-04, 1.61598982e-04, 2.19751580e-04, 2.96995550e-04,\n",
       "       3.98931102e-04, 5.32576001e-04, 7.06654332e-04, 9.31923968e-04,\n",
       "       1.22154241e-03, 1.59146888e-03, 2.06089818e-03, 2.65271952e-03,\n",
       "       3.39398992e-03, 4.31640908e-03, 5.45677857e-03, 6.85742491e-03,\n",
       "       8.56656243e-03, 1.06385691e-02, 1.31341457e-02, 1.61203278e-02,\n",
       "       1.96703190e-02, 2.38631167e-02, 2.87829020e-02, 3.45181740e-02,\n",
       "       4.11606119e-02, 4.88036603e-02, 5.75408414e-02, 6.74638118e-02,\n",
       "       7.86601927e-02, 9.12112197e-02, 1.05189266e-01, 1.20655313e-01,\n",
       "       1.37656443e-01, 1.56223449e-01, 1.76368649e-01, 1.98084004e-01,\n",
       "       2.21339621e-01, 2.46082740e-01, 2.72237254e-01, 2.99703828e-01,\n",
       "       3.28360643e-01, 3.58064784e-01, 3.88654236e-01, 4.19950465e-01,\n",
       "       4.51761512e-01, 4.83885505e-01, 5.16114495e-01, 5.48238488e-01,\n",
       "       5.80049535e-01, 6.11345764e-01, 6.41935216e-01, 6.71639357e-01,\n",
       "       7.00296172e-01, 7.27762746e-01, 7.53917260e-01, 7.78660379e-01,\n",
       "       8.01915996e-01, 8.23631351e-01, 8.43776551e-01, 8.62343557e-01,\n",
       "       8.79344687e-01, 8.94810734e-01, 9.08788780e-01, 9.21339807e-01,\n",
       "       9.32536188e-01, 9.42459159e-01, 9.51196340e-01, 9.58839388e-01,\n",
       "       9.65481826e-01, 9.71217098e-01, 9.76136883e-01, 9.80329681e-01,\n",
       "       9.83879672e-01, 9.86865854e-01, 9.89361431e-01, 9.91433438e-01,\n",
       "       9.93142575e-01, 9.94543221e-01, 9.95683591e-01, 9.96606010e-01,\n",
       "       9.97347280e-01, 9.97939102e-01, 9.98408531e-01, 9.98778458e-01,\n",
       "       9.99068076e-01, 9.99293346e-01, 9.99467424e-01, 9.99601069e-01,\n",
       "       9.99703004e-01, 9.99780248e-01, 9.99838401e-01, 9.99881896e-01,\n",
       "       9.99914216e-01, 9.99938077e-01, 9.99955577e-01, 9.99968329e-01])"
      ]
     },
     "execution_count": 17,
     "metadata": {},
     "output_type": "execute_result"
    }
   ],
   "source": [
    "area_values = norm.cdf(x)\n",
    "area_values"
   ]
  },
  {
   "cell_type": "code",
   "execution_count": 18,
   "metadata": {
    "scrolled": true
   },
   "outputs": [
    {
     "data": {
      "text/plain": [
       "[<matplotlib.lines.Line2D at 0x2d5d1771e48>]"
      ]
     },
     "execution_count": 18,
     "metadata": {},
     "output_type": "execute_result"
    },
    {
     "data": {
      "image/png": "[encoded data removed]",
      "text/plain": [
       "<Figure size 432x288 with 1 Axes>"
      ]
     },
     "metadata": {
      "needs_background": "light"
     },
     "output_type": "display_data"
    }
   ],
   "source": [
    "plt.figure()\n",
    "plt.plot(x, norm.cdf(x),'b-', lw=5, alpha=0.6, label='cdf')\n"
   ]
  },
  {
   "cell_type": "markdown",
   "metadata": {},
   "source": [
    "### Uniform distribution \n",
    "\n",
    "Probability dencity function: \n",
    "\n",
    "$$f(x) = \\begin{cases}\n",
    "            \\frac{1}{(b-a)}, \\text{if}  \\, x \\in [a,b] \\\\\n",
    "            0, \\text{if} \\, x \\notin [a,b]  \\\\\n",
    "        \\end{cases}$$\n",
    "        \n",
    "Then, `cdf`: \n",
    "$$F(x) = \\begin{cases}\n",
    "            0, \\text{if}  \\, x < a \\\\\n",
    "            \\frac{x-a}{(b-a)}, \\text{if}  \\,  a \\leq x  \\leq b\\\\\n",
    "            1, \\text{if}  \\, x > b \\\\\n",
    "        \\end{cases}$$\n"
   ]
  },
  {
   "cell_type": "code",
   "execution_count": 19,
   "metadata": {},
   "outputs": [
    {
     "data": {
      "text/plain": [
       "<matplotlib.legend.Legend at 0x2d5d2799608>"
      ]
     },
     "execution_count": 19,
     "metadata": {},
     "output_type": "execute_result"
    },
    {
     "data": {
      "image/png": "[encoded data removed]",
      "text/plain": [
       "<Figure size 432x288 with 1 Axes>"
      ]
     },
     "metadata": {
      "needs_background": "light"
     },
     "output_type": "display_data"
    }
   ],
   "source": [
    "def pdf_uniform(x,a,b):\n",
    "    if x<a: return 0 \n",
    "    if x>b: return 1 \n",
    "    return (x-a)/(b-a)\n",
    "\n",
    "\n",
    "pdf_uniform_v = np.vectorize (pdf_uniform,otypes=[np.float64])\n",
    "fig, ax = plt.subplots(1, 1)\n",
    "x = np.linspace(-1,4, 100)\n",
    "a,b= 0,3\n",
    "ax.plot(x,pdf_uniform_v (x,a,b),'g-', lw=2, alpha=0.6, label='uniform pdf ')\n",
    "\n",
    "plt.legend()"
   ]
  },
  {
   "cell_type": "markdown",
   "metadata": {},
   "source": [
    "# Sampling \n",
    "\n",
    "Sampling is the process of executing trials for some distribution and observing factual evidences.  \n",
    "\n",
    "Note: Before sampling we are talking about **probability distribution**, but having data we may now talk about **statistical distribution**\n",
    "\n",
    "So there are following scenarious: \n",
    "- Probability distribiution  -> Sampling \n",
    "- Known dataset -> Calcularte statistical distribition -> Probability distribiution  -> Sampling \n",
    "- Unknown general dataset -> Sampling (<вибірка>) -> Caompute statistical distribition -> Estimate of distribution of general dataset\n",
    "\n"
   ]
  },
  {
   "cell_type": "markdown",
   "metadata": {},
   "source": [
    "## Uniform distribution \n",
    "\n",
    "Return random integers from the `discrete uniform` distribution of the specified dtype in the “half-open” interval [low, high). If high is None (the default), then results are from [0, low)."
   ]
  },
  {
   "cell_type": "code",
   "execution_count": 20,
   "metadata": {},
   "outputs": [],
   "source": [
    "import seaborn as  sns "
   ]
  },
  {
   "cell_type": "markdown",
   "metadata": {},
   "source": [
    "### `np.random.uniform`"
   ]
  },
  {
   "cell_type": "code",
   "execution_count": 21,
   "metadata": {
    "scrolled": false
   },
   "outputs": [
    {
     "data": {
      "text/plain": [
       "array([0.3460189 , 0.4458171 , 0.44241938, 0.23151206, 0.07208754])"
      ]
     },
     "execution_count": 21,
     "metadata": {},
     "output_type": "execute_result"
    }
   ],
   "source": [
    "import numpy as np \n",
    "a_uniform= np.random.uniform(low=0.0, high=1.0, size=100000)\n",
    "a_uniform [:5]"
   ]
  },
  {
   "cell_type": "code",
   "execution_count": 22,
   "metadata": {
    "scrolled": false
   },
   "outputs": [
    {
     "data": {
      "text/plain": [
       "<matplotlib.axes._subplots.AxesSubplot at 0x2d5d3625b48>"
      ]
     },
     "execution_count": 22,
     "metadata": {},
     "output_type": "execute_result"
    },
    {
     "data": {
      "image/png": "[encoded data removed]",
      "text/plain": [
       "<Figure size 432x288 with 1 Axes>"
      ]
     },
     "metadata": {
      "needs_background": "light"
     },
     "output_type": "display_data"
    }
   ],
   "source": [
    "sns.histplot (a_uniform)"
   ]
  },
  {
   "cell_type": "markdown",
   "metadata": {},
   "source": [
    "### `np.random.randint`\n"
   ]
  },
  {
   "cell_type": "code",
   "execution_count": 23,
   "metadata": {
    "scrolled": true
   },
   "outputs": [
    {
     "data": {
      "text/plain": [
       "<matplotlib.axes._subplots.AxesSubplot at 0x2d5d4b41848>"
      ]
     },
     "execution_count": 23,
     "metadata": {},
     "output_type": "execute_result"
    },
    {
     "data": {
      "image/png": "[encoded data removed]",
      "text/plain": [
       "<Figure size 432x288 with 1 Axes>"
      ]
     },
     "metadata": {
      "needs_background": "light"
     },
     "output_type": "display_data"
    }
   ],
   "source": [
    "a_randint = np.random.randint(20,size= (100000))\n",
    "sns.histplot (a_randint, bins = 20 )"
   ]
  },
  {
   "cell_type": "markdown",
   "metadata": {},
   "source": [
    "### `np.random.randn`"
   ]
  },
  {
   "cell_type": "code",
   "execution_count": 24,
   "metadata": {},
   "outputs": [
    {
     "data": {
      "text/plain": [
       "array([[-0.10975786, -1.23931821,  0.96170916,  0.64834814],\n",
       "       [ 1.80261201, -0.85933172, -0.19044595,  1.12594652],\n",
       "       [ 2.25712454,  0.22857857, -0.34168006, -0.8574918 ]])"
      ]
     },
     "execution_count": 24,
     "metadata": {},
     "output_type": "execute_result"
    }
   ],
   "source": [
    "np.random.randn(3,4) "
   ]
  },
  {
   "cell_type": "code",
   "execution_count": 25,
   "metadata": {},
   "outputs": [
    {
     "data": {
      "text/plain": [
       "<matplotlib.axes._subplots.AxesSubplot at 0x2d5d4bcabc8>"
      ]
     },
     "execution_count": 25,
     "metadata": {},
     "output_type": "execute_result"
    },
    {
     "data": {
      "image/png": "[encoded data removed]",
      "text/plain": [
       "<Figure size 432x288 with 1 Axes>"
      ]
     },
     "metadata": {
      "needs_background": "light"
     },
     "output_type": "display_data"
    }
   ],
   "source": [
    "a_randn = np.random.randn(100000)\n",
    "sns.histplot (a_randn, bins = 300 )"
   ]
  },
  {
   "cell_type": "code",
   "execution_count": 26,
   "metadata": {},
   "outputs": [
    {
     "data": {
      "text/plain": [
       "<matplotlib.axes._subplots.AxesSubplot at 0x2d5d51db7c8>"
      ]
     },
     "execution_count": 26,
     "metadata": {},
     "output_type": "execute_result"
    },
    {
     "data": {
      "image/png": "[encoded data removed]",
      "text/plain": [
       "<Figure size 432x288 with 1 Axes>"
      ]
     },
     "metadata": {
      "needs_background": "light"
     },
     "output_type": "display_data"
    }
   ],
   "source": [
    "a_randn = np.random.randn(100000)\n",
    "sns.histplot (a_randn, bins = 100 )"
   ]
  },
  {
   "cell_type": "markdown",
   "metadata": {},
   "source": [
    "### `np.random.normal`"
   ]
  },
  {
   "cell_type": "code",
   "execution_count": 27,
   "metadata": {},
   "outputs": [
    {
     "data": {
      "text/plain": [
       "array([[ 5.86491099,  1.11647833,  3.3708374 ,  6.06739976],\n",
       "       [-2.59650493,  1.08298377,  4.4067522 , -5.45725776]])"
      ]
     },
     "execution_count": 27,
     "metadata": {},
     "output_type": "execute_result"
    }
   ],
   "source": [
    "np.random.normal(loc=3, scale=4, size=(2,4)) # similar to randn but accepts more params "
   ]
  },
  {
   "cell_type": "code",
   "execution_count": 28,
   "metadata": {
    "scrolled": false
   },
   "outputs": [
    {
     "data": {
      "text/plain": [
       "<matplotlib.axes._subplots.AxesSubplot at 0x2d5d5589708>"
      ]
     },
     "execution_count": 28,
     "metadata": {},
     "output_type": "execute_result"
    },
    {
     "data": {
      "image/png": "[encoded data removed]",
      "text/plain": [
       "<Figure size 432x288 with 1 Axes>"
      ]
     },
     "metadata": {
      "needs_background": "light"
     },
     "output_type": "display_data"
    }
   ],
   "source": [
    "a_normal = np.random.normal(loc=5, scale=3, size=100000)\n",
    "sns.histplot (a_normal, bins = 50 )"
   ]
  },
  {
   "cell_type": "markdown",
   "metadata": {},
   "source": [
    "### `np.random.multinomial`\n",
    "\n",
    "Could be used for sampling from binomial distribution "
   ]
  },
  {
   "cell_type": "code",
   "execution_count": 29,
   "metadata": {},
   "outputs": [
    {
     "data": {
      "text/plain": [
       "array([7, 6, 6, 4, 6, 3, 7, 7, 6, 5, 2, 7, 7, 8, 9, 7, 8, 5, 5, 5])"
      ]
     },
     "execution_count": 29,
     "metadata": {},
     "output_type": "execute_result"
    }
   ],
   "source": [
    "pvals= [.6, .4] # (n, pvals, size=None)\n",
    "flips= np.random.multinomial(10, pvals, 100000)[:,0] # n means from 10 trials, size means how many time is repeated\n",
    "flips[:20]"
   ]
  },
  {
   "cell_type": "code",
   "execution_count": 30,
   "metadata": {},
   "outputs": [
    {
     "data": {
      "text/plain": [
       "<matplotlib.axes._subplots.AxesSubplot at 0x2d5d58746c8>"
      ]
     },
     "execution_count": 30,
     "metadata": {},
     "output_type": "execute_result"
    },
    {
     "data": {
      "image/png": "[encoded data removed]",
      "text/plain": [
       "<Figure size 432x288 with 1 Axes>"
      ]
     },
     "metadata": {
      "needs_background": "light"
     },
     "output_type": "display_data"
    }
   ],
   "source": [
    "sns.histplot (flips, bins = 11)"
   ]
  },
  {
   "cell_type": "code",
   "execution_count": 31,
   "metadata": {},
   "outputs": [
    {
     "data": {
      "text/plain": [
       "(12, 605)"
      ]
     },
     "execution_count": 31,
     "metadata": {},
     "output_type": "execute_result"
    }
   ],
   "source": [
    "# check there is cases on edges \n",
    "sum(flips==0), sum(flips==10)"
   ]
  },
  {
   "cell_type": "code",
   "execution_count": 32,
   "metadata": {},
   "outputs": [
    {
     "data": {
      "text/plain": [
       "[0.00010485760000000006,\n",
       " 0.0015728640000000006,\n",
       " 0.010616832000000005,\n",
       " 0.042467328000000006,\n",
       " 0.11147673600000003,\n",
       " 0.20065812480000003,\n",
       " 0.25082265600000003,\n",
       " 0.21499084799999998,\n",
       " 0.12093235199999998,\n",
       " 0.04031078399999999,\n",
       " 0.006046617599999997]"
      ]
     },
     "execution_count": 32,
     "metadata": {},
     "output_type": "execute_result"
    }
   ],
   "source": [
    "# recall the background probability distribution \n",
    "bin_distr"
   ]
  },
  {
   "cell_type": "code",
   "execution_count": 33,
   "metadata": {},
   "outputs": [
    {
     "data": {
      "text/plain": [
       "<BarContainer object of 11 artists>"
      ]
     },
     "execution_count": 33,
     "metadata": {},
     "output_type": "execute_result"
    },
    {
     "data": {
      "image/png": "[encoded data removed]",
      "text/plain": [
       "<Figure size 432x288 with 1 Axes>"
      ]
     },
     "metadata": {
      "needs_background": "light"
     },
     "output_type": "display_data"
    }
   ],
   "source": [
    "plt.bar(np.arange(11),bin_distr)"
   ]
  },
  {
   "cell_type": "markdown",
   "metadata": {},
   "source": [
    "# Statistical analysis\n",
    "\n",
    "We have general dataset (<генеральна сукупність> which is UNKNOWN) and sample dataset (observed <вибірка>). \n",
    "\n",
    "We may calculate statistical distribution of sample dataset calculate its characteristrics e.g. the mean (<середня вибіркова для кількісної ознаки>), or sample proportion for a quality feature  (<вибіркова частка для якісної ознаки>)) and there are several theorems that allow to estimate the characteristics of distribution of general data set.\n",
    "\n",
    "## Central limit theorem \n",
    "\n",
    "Note: The mean/proportion of sample dataset is **random variable**. and so we may talk about its probability distribution. \n",
    "\n",
    "For instance, let's have sampling 50 random integer values from uniformdistribution and calculate the mean value. Then iterate this process let's say $n= 1000$ times. This way we get sample dataset of these means values. It appears the larger sample size of this data set the higher confidence that it has normal distribution \n",
    "\n"
   ]
  },
  {
   "cell_type": "code",
   "execution_count": 34,
   "metadata": {},
   "outputs": [
    {
     "data": {
      "text/plain": [
       "[7.96, 9.48, 8.58, 9.84, 10.72, 8.9, 10.96, 10.32, 9.72, 9.8]"
      ]
     },
     "execution_count": 34,
     "metadata": {},
     "output_type": "execute_result"
    }
   ],
   "source": [
    "# generate sample dataset of 1000 means values of 50 randomvalues from unifrom distribution.\n",
    "means= [np.random.randint(20,size= (50)).mean() for i in range (1000)]\n",
    "means[:10]"
   ]
  },
  {
   "cell_type": "code",
   "execution_count": 35,
   "metadata": {},
   "outputs": [
    {
     "data": {
      "text/plain": [
       "<matplotlib.axes._subplots.AxesSubplot at 0x2d5d5633448>"
      ]
     },
     "execution_count": 35,
     "metadata": {},
     "output_type": "execute_result"
    },
    {
     "data": {
      "image/png": "[encoded data removed]",
      "text/plain": [
       "<Figure size 432x288 with 1 Axes>"
      ]
     },
     "metadata": {
      "needs_background": "light"
     },
     "output_type": "display_data"
    }
   ],
   "source": [
    "sns.histplot(means)"
   ]
  },
  {
   "cell_type": "markdown",
   "metadata": {},
   "source": [
    "This is simple visualization of **Central Limit Theorem**.\n",
    "\n",
    "In general the central limit theorem states that the sum of some number of independent and identically distributed random variables with finite variance will **tend to a normal distribution  as the number of these variables increases**.\n",
    "\n",
    "There are variaty of formulations and extensions.\n",
    "\n",
    "Usually it is about `sum` but all them are applicable for `mean/proportion`"
   ]
  },
  {
   "cell_type": "code",
   "execution_count": 36,
   "metadata": {
    "scrolled": true
   },
   "outputs": [
    {
     "data": {
      "text/plain": [
       "<matplotlib.axes._subplots.AxesSubplot at 0x2d5d56fd208>"
      ]
     },
     "execution_count": 36,
     "metadata": {},
     "output_type": "execute_result"
    },
    {
     "data": {
      "image/png": "[encoded data removed]",
      "text/plain": [
       "<Figure size 432x288 with 1 Axes>"
      ]
     },
     "metadata": {
      "needs_background": "light"
     },
     "output_type": "display_data"
    }
   ],
   "source": [
    "# lets visualize the distribution of sums values \n",
    "sns.histplot([np.random.randint(20,size= (50)).sum() for i in range (1000)])"
   ]
  },
  {
   "cell_type": "markdown",
   "metadata": {},
   "source": [
    "Other samples of of Central Limit Theorem:  \n",
    "- The probability distribution of the total distance traveled in a **random walk** (biased or unbiased) will follow a **normal distribution**.\n",
    "- **Flipping a large number of coins** will have a **normal distribution for the total number of heads** (or reverses)."
   ]
  },
  {
   "cell_type": "markdown",
   "metadata": {},
   "source": [
    "### Random walks "
   ]
  },
  {
   "cell_type": "code",
   "execution_count": 37,
   "metadata": {},
   "outputs": [
    {
     "data": {
      "image/png": "[encoded data removed]",
      "text/plain": [
       "<Figure size 432x288 with 1 Axes>"
      ]
     },
     "metadata": {
      "needs_background": "light"
     },
     "output_type": "display_data"
    }
   ],
   "source": [
    "import numpy as np\n",
    "import matplotlib.pyplot as plt\n",
    "import random\n",
    "def randomwalk1D(n):\n",
    "    x, y = 0, 0\n",
    "    # Generate the time points [1, 2, 3, ... , n]\n",
    "    timepoints = np.arange(n + 1)\n",
    "    positions = [y]\n",
    "    directions = [\"UP\", \"DOWN\"]\n",
    "    for i in range(1, n + 1):\n",
    "        # Randomly select either UP or DOWN\n",
    "        step = random.choice(directions)\n",
    "        \n",
    "        # Move the object up or down\n",
    "        if step == \"UP\":\n",
    "            y += 1\n",
    "        elif step == \"DOWN\":\n",
    "            y -= 1\n",
    "        # Keep track of the positions\n",
    "        positions.append(y)\n",
    "    return timepoints, positions\n",
    "rw1 = randomwalk1D(1000)\n",
    "rw2 = randomwalk1D(1000)\n",
    "rw3 = randomwalk1D(1000)\n",
    "plt.plot(rw1[0], rw1[1], 'r-', label=\"rw1\")\n",
    "plt.plot(rw2[0], rw2[1], 'g-', label=\"rw2\")\n",
    "plt.plot(rw3[0], rw3[1], 'b-', label=\"rw3\")\n",
    "plt.show()"
   ]
  },
  {
   "cell_type": "code",
   "execution_count": 38,
   "metadata": {},
   "outputs": [
    {
     "data": {
      "text/plain": [
       "[165, 149, 43, 225, 275, -417, -69, -351, -27, -283]"
      ]
     },
     "execution_count": 38,
     "metadata": {},
     "output_type": "execute_result"
    }
   ],
   "source": [
    "# observe total distance of each walk\n",
    "rw_sums = [np.array(randomwalk1D(50)[1]).sum() for i in range (1000)]\n",
    "rw_sums[:10]"
   ]
  },
  {
   "cell_type": "code",
   "execution_count": 39,
   "metadata": {},
   "outputs": [
    {
     "data": {
      "text/plain": [
       "<matplotlib.axes._subplots.AxesSubplot at 0x2d5d387fc08>"
      ]
     },
     "execution_count": 39,
     "metadata": {},
     "output_type": "execute_result"
    },
    {
     "data": {
      "image/png": "[encoded data removed]",
      "text/plain": [
       "<Figure size 432x288 with 1 Axes>"
      ]
     },
     "metadata": {
      "needs_background": "light"
     },
     "output_type": "display_data"
    }
   ],
   "source": [
    "# visualize the distribution of values of total distances \n",
    "sns.histplot(rw_sums)"
   ]
  },
  {
   "cell_type": "markdown",
   "metadata": {},
   "source": [
    "## Statistical Estimation \n",
    "\n",
    "Because real-world values are often the balanced sum of many unobservable random events, the central limit theorem also partially explains why **the normal distribution occurs quite often**. \n",
    "\n",
    "It also justifies the use of the **approximation for large statistical samples to the normal distribution** in controlled experiments.\n",
    "\n",
    "To recall, <br>\n",
    "**Statement**: The larger sample dataset size the higher confidence that **mean/proportion** has normal distribution. \n",
    "\n",
    "The parameters $a$ and $\\sigma$ of this distribution are vary depending on what parameter is observed and how the sampling is  executed (e.g. with repeating or not).\n",
    "\n",
    "**Theorem for mean** $x_g$ (mean of general dataset) in case of repeating sampling: \n",
    "$$a = x_g, \\, \\sigma= \\sqrt{D_g/n}$$\n",
    "\n",
    "**Theorem for proportion** $p = M/N$ (proporrtion of general dataset) in case of repeating sampling: \n",
    "$$a = p, \\, \\sigma= \\sqrt{pq/n}, \\, q= 1-p$$\n",
    "\n",
    "For non-repearting sampling the expressions have additional contributors\n",
    "\n",
    "- for mean: $a = x_g, \\, \\sigma= \\sqrt{\\frac {D_g}{n}\\frac {N-n}{N-1}}$\n",
    "- for proportion: $a = x_g, \\, \\sigma= \\sqrt{\\frac {pq}{n}\\frac {N-n}{N-1}}$\n",
    "\n",
    "Note: **Trick approach:** Since we may calculate the probability of variation of sample mean/proportion $P(|a-x_s| <  \\epsilon)$ , so it allows compute the **confidence the parameter of general dataset will be in certain range** $P(|x_s-a| < \\epsilon)$  \n",
    "<br> This range depends on size of sample distribution (the large sample size the smalller range) \n",
    "\n"
   ]
  },
  {
   "cell_type": "markdown",
   "metadata": {},
   "source": [
    "## Confidence intervals "
   ]
  },
  {
   "cell_type": "markdown",
   "metadata": {},
   "source": [
    "So, we want to estimate the characteristics of the general distribution (mean/proportion) based on the sample dataset. \n",
    "\n",
    "Confidence probabilty (довірча ймовірність) of the estimation of parameter $\\theta$(mean/propotion) of the general population based on $\\hat{\\theta}$ (mean/propotion) of the sample dataset is called the probability of deviating the parameter not more than $\\Delta$:\n",
    "\n",
    "$$\\gamma =  P(|\\theta-\\hat{\\theta}|<\\Delta ) $$ \n",
    "\n",
    "and it could be computed by formula: \n",
    "$$ \\gamma = 2 \\Phi (\\frac{\\Delta}{\\sigma})$$ \n",
    "\n",
    "here $\\sigma$ is std (<Середня квадратична помилка (СКП) -  середнє квадратичне відхилення середної вибіркової або вибіркової частки>)\n"
   ]
  },
  {
   "cell_type": "markdown",
   "metadata": {},
   "source": [
    "For convenience, the argument of $\\Phi$ is defined  $$z = \\frac{\\Delta}{\\sigma}$$ \n",
    "and called `Z-score` (Z-value)"
   ]
  },
  {
   "cell_type": "markdown",
   "metadata": {},
   "source": [
    "For **mean** in case of **repeating sample dataset**:\n",
    "$$\\sigma = \\sqrt{\\frac{D_{в}}{n}}$$ \n",
    "\n",
    "For **proportion** in case of  **repeating sample dataset**:\n",
    "$$\\sigma = \\sqrt{\\frac{pq}{n}}$$ \n",
    "\n",
    "For **mean** in case of **non-repeating sample dataset**:\n",
    "$$\\sigma = \\sqrt{\\frac{D_{в}}{n} (1-\\frac{n}{N})}$$ \n",
    "\n",
    "For **proportion** in case of  **non repeating sample dataset**:\n",
    "$$\\sigma = \\sqrt{\\frac{pq}{n}(1-\\frac{n}{N})}$$ "
   ]
  },
  {
   "cell_type": "markdown",
   "metadata": {},
   "source": [
    "To summarize, considering  **proportion** only and  repeating sample dataset only, we have the following formulas: \n",
    "\n",
    "$$ \\gamma = 2 \\Phi (z) \\quad  z = \\frac{\\Delta}{\\sigma} \\quad \\sigma = \\sqrt{\\frac{pq}{n}} $$ \n",
    "\n",
    "\n",
    "and so we may solve the following three types of porblems\n",
    "\n",
    "1) Calculate the confidence probability  $\\gamma$ of parameter will not deviate by more than $\\Delta$ \n",
    "   given the sample size $n$\n",
    " \n",
    "2) Calculate the confidence interval (critical deviation $\\Delta$) for a given probability $\\gamma$ and given the sample size $n$\n",
    " \n",
    "3) Determine the minimum sample size $n$, so that with the given confidence $\\gamma$ the value of the parameter will not deviate by more than $\\Delta$ \n",
    " \n",
    "And as a result, it is the base for testing the testing  static hypotheses\n"
   ]
  },
  {
   "cell_type": "markdown",
   "metadata": {},
   "source": [
    "# Testing Hypothesis \n",
    "\n",
    "## Solving Problems With Proportions\n",
    "\n"
   ]
  },
  {
   "cell_type": "markdown",
   "metadata": {},
   "source": [
    "### Task \n",
    "A tech company believes that percentage of residents in a town XYZ that own a cell phone is `70%`. \n",
    "\n",
    "A marketing manager believes this value to be different.\n",
    "<br>He conducts a survey of `200` individuals and found that `130` responded yes to owning a cell phone. \n",
    "\n",
    "At `95%` confidence level, is there enough evidence to reject the null hypothesis?\n",
    "\n",
    "( alterntive statement) At 5% significance level, is there enough evidence to check null hypothesis)"
   ]
  },
  {
   "cell_type": "markdown",
   "metadata": {},
   "source": [
    "### Solution\n",
    "**Start with definition**  (statement) of `null hypothesis`:\n",
    "`Percentage (proportion) is 70%`\n",
    "\n",
    "$$H_{0}: p = 0.7$$\n",
    "\n",
    "So, `alternative hypothesis`:  $$H_{A}: p \\ne 0.7$$\n"
   ]
  },
  {
   "cell_type": "markdown",
   "metadata": {},
   "source": [
    "Proportion associated with null hypothisis is \n",
    "\n",
    "$p = 0.7$ so $ \\quad q =1 - p = 0.3$"
   ]
  },
  {
   "cell_type": "markdown",
   "metadata": {},
   "source": [
    "The following is known about samples: \n",
    "\n",
    "Sample size $n = 200$, and responded `yes` $x = 130$\n",
    "\n",
    "So, sample proportion is\n",
    "$$ \\hat {p} = \\frac{x}{n}= \\frac{130}{200}= 0.65$$ \n",
    "\n",
    "Note: It is not far away from `0.7` so **it can get to the confidence interval**  $(\\hat {p}- \\Delta, \\hat {p}+ \\Delta)$, then we need to **accept the null hypothsis**.\n",
    "<br> If it will be out of confidence interval, then we may **reject the null hypothsis** \n"
   ]
  },
  {
   "cell_type": "markdown",
   "metadata": {},
   "source": [
    "Note: This is **TWO tailed test** because  `NOT EQUAL` means it could be less or more than the value "
   ]
  },
  {
   "cell_type": "markdown",
   "metadata": {},
   "source": [
    "Next, \n",
    "\n",
    "`95%` means the area of accepting the null hupothesis."
   ]
  },
  {
   "cell_type": "markdown",
   "metadata": {},
   "source": [
    "![Z Score Table (same as Standard Normal Distribution Table](https://media.geeksforgeeks.org/wp-content/uploads/20201028221445/CIDiagram.png)"
   ]
  },
  {
   "cell_type": "markdown",
   "metadata": {},
   "source": [
    "Thus, the rejection area is `0.05` , which means the left side of rejection area is `0.025` and the same is about right side of rejection area is `0.025` (see normal distribution shape below)\n",
    "\n",
    "And so the point corresponds to half of FTR (Fail To Reject) area `0.95/2= 0.475`\n",
    "\n",
    "Now we may find then find the `Z value` from \n",
    "[Z Score Table (same as Standard Normal Distribution Table](https://statcalculators.com/z-score-table-standard-normal-distribution/)"
   ]
  },
  {
   "cell_type": "markdown",
   "metadata": {},
   "source": [
    "![Z Score Table (same as Standard Normal Distribution Table](https://statcalculators.com/wp-content/uploads/2018/02/z-score-02.png)"
   ]
  },
  {
   "cell_type": "markdown",
   "metadata": {},
   "source": [
    "Note: The values in this table are actually the values of Laplas function mentioned before \n",
    "\n",
    "$$ \\Phi(z)=   \\frac{1}{\\sqrt{2\\pi}}\\int_0^{z}e^{-\\frac{x^2}{2}}dx$$\n"
   ]
  },
  {
   "cell_type": "markdown",
   "metadata": {},
   "source": [
    "**So, continuing** \n",
    "\n",
    "We found the 0.475 in the table and it corresponds to $z = 1.96$\n",
    "\n",
    "So, the right critical $z = 1.96$, the left critical $z = -1.96$"
   ]
  },
  {
   "cell_type": "markdown",
   "metadata": {},
   "source": [
    "![The Area Between Two Z Scores](https://statcalculators.com/wp-content/uploads/2019/11/z-score-table-for-normal-distribution.png)"
   ]
  },
  {
   "cell_type": "code",
   "execution_count": 40,
   "metadata": {},
   "outputs": [
    {
     "data": {
      "text/plain": [
       "<matplotlib.collections.PolyCollection at 0x2d5d39a6b48>"
      ]
     },
     "execution_count": 40,
     "metadata": {},
     "output_type": "execute_result"
    },
    {
     "data": {
      "image/png": "[encoded data removed]",
      "text/plain": [
       "<Figure size 432x288 with 1 Axes>"
      ]
     },
     "metadata": {
      "needs_background": "light"
     },
     "output_type": "display_data"
    }
   ],
   "source": [
    "fig, ax = plt.subplots(1, 1)\n",
    "x = np.linspace(-3 ,3, 100)\n",
    "ax.plot(x, f_gauss(x),'b-', lw=5, alpha=0.6, label='Gauss')\n",
    "x_left = x[x<-1.96]\n",
    "x_right = x[x>1.96]\n",
    "ax.fill_between(x_left, 0,f_gauss(x_left) , facecolors='red',alpha=0.45)  \n",
    "ax.fill_between(x_right, 0,f_gauss(x_right) , facecolors='red',alpha=0.45)  \n"
   ]
  },
  {
   "cell_type": "markdown",
   "metadata": {},
   "source": [
    "#### Note: there are other  table of cumulative values\n",
    "\n",
    "It is also called [Z SCORE TABLE](https://www.z-table.com/)\n",
    "\n",
    "In fact it's just `+ 0.5` since it covers negative z values but not only from `0` to `z`\n",
    "\n"
   ]
  },
  {
   "cell_type": "markdown",
   "metadata": {},
   "source": [
    "![](https://www.z-table.com/uploads/2/1/7/9/21795380/4694683_orig.png?ezimgfmt=rs:441x370/rscb1/ng:webp/ngcb1)"
   ]
  },
  {
   "cell_type": "markdown",
   "metadata": {},
   "source": [
    "![accumulative values](https://www.z-table.com/uploads/2/1/7/9/21795380/8573955.png?ezimgfmt=rs:759x793/rscb1/ng:webp/ngcb1)"
   ]
  },
  {
   "cell_type": "markdown",
   "metadata": {},
   "source": [
    "So, to make sure you are using proper table just take a look the value it starts from `0` or `0.5`"
   ]
  },
  {
   "cell_type": "markdown",
   "metadata": {},
   "source": [
    "#### Using this table you need to compute cumulative area $A_{C}= 0.95+0.025= 0.975$ , and then get the same $z$ value = `1.96`"
   ]
  },
  {
   "cell_type": "markdown",
   "metadata": {},
   "source": [
    "### Probability Point Function  `norm.ppf()`\n",
    "\n",
    "Instead of table data you may use the implementation of Z-score from `scipy` \n",
    "\n",
    "It is reversed to `norm.cdf()`\n"
   ]
  },
  {
   "cell_type": "code",
   "execution_count": 41,
   "metadata": {
    "scrolled": true
   },
   "outputs": [
    {
     "data": {
      "text/plain": [
       "(0.0, 1.959963984540054)"
      ]
     },
     "execution_count": 41,
     "metadata": {},
     "output_type": "execute_result"
    }
   ],
   "source": [
    "from scipy.stats import norm\n",
    "norm.ppf(.5), norm.ppf(.975)"
   ]
  },
  {
   "cell_type": "code",
   "execution_count": 42,
   "metadata": {},
   "outputs": [
    {
     "data": {
      "text/plain": [
       "(1.64, 0.95)"
      ]
     },
     "execution_count": 42,
     "metadata": {},
     "output_type": "execute_result"
    }
   ],
   "source": [
    "# check it exactly reverse functions \n",
    "norm.ppf(norm.cdf(1.64)) , norm.cdf(norm.ppf(0.95)) "
   ]
  },
  {
   "cell_type": "markdown",
   "metadata": {},
   "source": [
    "**Continuing**  \n",
    "\n",
    "Now we need to calculate the Z-value for our proportion (z calculated $Z_{c}$)\n",
    "\n",
    "$$ Z_{c} = \\frac{\\Delta}{\\sigma} \\quad \\Delta=  \\hat{p}-p   \\quad \\sigma = \\sqrt{\\frac{pq}{n}}$$ \n",
    "\n",
    "$$ Z_{c} =   \\frac{\\hat{p}-p}{\\sqrt{ \\frac{p q }{n} }} = \\frac{0.65-0.7}{\\sqrt{ \\frac{0.7 *0.3 }{200} }} = -1.54$$\n"
   ]
  },
  {
   "cell_type": "markdown",
   "metadata": {},
   "source": [
    "\n",
    "**Note**: \n",
    "\n",
    "- General proportion $p$ is not a random variable.\n",
    "- Forming the hypothesis, we assume that the general proportion $p$ is known and equal to `0.7`\n",
    "- The sample proportion $\\hat{p}$ is **random variable**, and with increasing $n$, its distribution approaches to the normal distribution with parameters based $p$ and $\\sigma$\n",
    "- So, accordingly, we estimate the probability of the trial (i.e. sample) the random variable $\\hat{p}$ will not deviate from  $p$ more than by $\\Delta$\n",
    "- And that's why you need to take $p$ and $q$ (`0.7` і `0.3`) but not $\\hat{p}$ and $\\hat{q}$ (`0.65` і `0.35`)  \n",
    "- Thus calculating the probability of deviation $\\hat{p}$  from $p$  we estimate $p$ having $\\hat{p}$. It is  tricky approach, becasue it looks at the beginning like we know $\\hat{p}$ and and ${p}$ is unknown, in fact it is opposite)\n",
    "   \n",
    "    "
   ]
  },
  {
   "cell_type": "code",
   "execution_count": 43,
   "metadata": {},
   "outputs": [
    {
     "name": "stdout",
     "output_type": "stream",
     "text": [
      "z_critical= 1.96, z_calculated= -1.54\n"
     ]
    },
    {
     "data": {
      "text/plain": [
       "Text(-1.5430334996209172, 0.12130894491310133, '-1.54')"
      ]
     },
     "execution_count": 43,
     "metadata": {},
     "output_type": "execute_result"
    },
    {
     "data": {
      "image/png": "[encoded data removed]",
      "text/plain": [
       "<Figure size 432x288 with 1 Axes>"
      ]
     },
     "metadata": {
      "needs_background": "light"
     },
     "output_type": "display_data"
    }
   ],
   "source": [
    "fig, ax = plt.subplots(1, 1)\n",
    "x = np.linspace(-3 ,3, 100)\n",
    "\n",
    "z_critical = norm.ppf(0.975)\n",
    "z_c= (0.65-0.7)/np.sqrt((0.7 *0.3)/200)\n",
    "print (f'z_critical= {z_critical:.2f}, z_calculated= {z_c:.2f}')\n",
    "\n",
    "ax.plot(x, norm.pdf(x),'b-', lw=2, alpha=0.6, label='Gauss')\n",
    "x_left = x[x<-z_critical]\n",
    "x_right = x[x>z_critical]\n",
    "ax.fill_between(x_left, 0, norm.pdf(x_left) , facecolors='red',alpha=0.45)  \n",
    "ax.fill_between(x_right, 0,norm.pdf(x_right) , facecolors='red',alpha=0.45)  \n",
    "\n",
    "\n",
    "ax.plot ([z_c,z_c],[0, norm.pdf(z_c)], 'g--')\n",
    "\n",
    "ax.text(-z_critical, norm.pdf(z_critical) ,'{:.3}'.format(-z_critical), ha= 'right', va= 'bottom',color= 'blue',fontsize= 14)\n",
    "ax.text(z_critical, norm.pdf(z_critical) ,'{:.3}'.format(z_critical), ha= 'left', va= 'bottom',color= 'blue',fontsize= 14)\n",
    "ax.text(z_c, norm.pdf(z_c) ,'{:.3}'.format(z_c), ha= 'right', va= 'bottom',color= 'g',fontsize= 14)\n"
   ]
  },
  {
   "cell_type": "markdown",
   "metadata": {},
   "source": [
    "### Conclusion for task for proportion\n",
    "\n",
    "$Z_{c} = -1.54$ in FTR (Fail To Reject) area  the  $(-1.96; 1.96)$, \n",
    "\n",
    "so $H_0$ is **ACCEPTED**. \n",
    "\n",
    "We may interpret it as it is **insufficient sample size to reject $H_0$**\n"
   ]
  },
  {
   "cell_type": "markdown",
   "metadata": {},
   "source": [
    "## Summary guide for testing the hypothesis for  proportions \n",
    "\n",
    "1)  Define Null and Alternative hypotheses \n",
    "2)  Determine whether it is one tailed or two tailed tests \n",
    "3)  determine critical Z-value from confidence/significance level\n",
    "4)  (draw the FTR area) \n",
    "5)  Calculate the Z-value for proportion\n",
    "6)  Compare z-calculated and z-critical \n",
    "7)  Make conclusion towards \n"
   ]
  },
  {
   "cell_type": "markdown",
   "metadata": {},
   "source": [
    "## Computing minimum size of sample dataset\n",
    "\n",
    "Let's have the same task for proportion and assume we need to compute the narrow sample size $n$. \n",
    "We may compute the  $n_{min}$ from  $ \\sigma = \\sqrt{\\frac{pq}{n}}$\n",
    "\n",
    "$\\sigma = \\frac{\\Delta}{Z}$,   and $Z$ will compute for given confidence probabilty $\\gamma = 2 \\Phi (Z)$   \n",
    "\n",
    "So \n",
    "\n",
    "$$n_{min} = \\frac{z^2 \\, p \\, q}{\\Delta^2} $$ \n",
    "\n",
    "For given $\\gamma = 0.47.5$ we receive  $Z = 1.96$\n",
    "\n",
    "and thus $$n_{min} = \\frac{1.96 ^2 * 0.7 * 0.3}{0.05^2}  = 323$$ \n"
   ]
  },
  {
   "cell_type": "code",
   "execution_count": 44,
   "metadata": {},
   "outputs": [
    {
     "data": {
      "text/plain": [
       "322.69439999999986"
      ]
     },
     "execution_count": 44,
     "metadata": {},
     "output_type": "execute_result"
    }
   ],
   "source": [
    "(1.96)**2 * 0.7 * 0.3 / (0.05)** 2"
   ]
  },
  {
   "cell_type": "markdown",
   "metadata": {},
   "source": [
    "**Note**: This could be considered as alternative approach for testing hypothesis - 200 samples is **insufficient to reject the null hypothesis  $H_0$** with confidence level `95%`. In other words we will accept null hupothesis  $H_0$ untill we get the 323 sample, and if we have `65%` (or less) sample proportion, then we will be able to REJECT the $H_0$ about `70%` proportion of general dataset. \n"
   ]
  },
  {
   "cell_type": "markdown",
   "metadata": {},
   "source": [
    "___\n"
   ]
  },
  {
   "cell_type": "markdown",
   "metadata": {},
   "source": [
    "## Hypothesis testing of difference of two means\n",
    "\n",
    "### Task\n",
    "\n",
    "A test was conducted between two different classes to see if there was any significant difference in the performance between the two teachers. \n",
    "\n",
    "The quiz scores from **15 students** of the <font color= 'green' size = 4> 1st class </font>   was a **mean score of 82** with a **standard deviation of 2.4**. \n",
    "<br>The quiz given in the <font color= 'green' size = 4> second class </font>  had a **mean score of 84** with a **standard deviation of 1.7** from **12 students**. \n",
    "\n",
    "Determine if there is a major difference at a **5% significance level**."
   ]
  },
  {
   "cell_type": "markdown",
   "metadata": {},
   "source": [
    "### Solution \n",
    "\n",
    "#### Lets summarize the provided information  \n",
    "\n",
    "<font color= 'green' size = 4> 1st class: </font> \n",
    "$n_1 = 15,\\quad \\bar{x_1} = 82, \\quad \\bar{\\sigma_1} = 2.4 $\n",
    "\n",
    "<font color= 'green' size = 4> 2nd class: </font>\n",
    "$n_2 = 12,\\quad \\bar{x_1} = 84, \\quad \\bar{\\sigma_2} = 1.7 $\n",
    "\n",
    "Significance level $\\alpha = 0.05$ means **Confidence level** $\\gamma = 0.95$ \n",
    "\n",
    "#### State Null and alternative Hypothses \n",
    "\n",
    "Null hypothesis:  $\\mu_1 = \\mu_2$\n",
    "Alternative hypothsis  $\\mu_1 \\ne \\mu_2$\n",
    "\n",
    "#### Determine whether it is normal distribition or T-distribition \n",
    "$n_1$ and $n_2$  are less than 30 so we will use T-distribution"
   ]
  },
  {
   "cell_type": "markdown",
   "metadata": {},
   "source": [
    "### Student’s t-distribution\n",
    "\n",
    "Student’s t-distribution(**t-distribution**) is a probability distribution that is used in statistics for making inferences about the **population mean** when the **sample size is small** or when the **population standard deviation is unknown**. <br>\n",
    "It is similar to the standard normal distribution (Z-distribution), but it has heavier tails."
   ]
  },
  {
   "cell_type": "markdown",
   "metadata": {},
   "source": [
    "<img src = \"t-comparison.png\" height=500 width= 500 align=\"left\">"
   ]
  },
  {
   "cell_type": "markdown",
   "metadata": {},
   "source": [
    "\n",
    "<font color = green >\n",
    "\n",
    "### Difference Between T-Distribution and Normal Distribution\n",
    "\n",
    "</font>\n",
    "\n",
    "\n",
    "<table style=\"width:90%\">\n",
    "  <tr>\n",
    "    <td  style=\"text-align:center\"> <b>T-Distribution</b> </td>\n",
    "    <td style=\"text-align:center\"> <b>Normal Distribution</b> </td>\n",
    "  </tr>\n",
    "  <tr>\n",
    "    <td   style=\"text-align:center\">T-Distribution is defined by  its degree of freedom which itself depends upon the sample size</td>\n",
    "    <td style=\"text-align:center\">Normal distribution is defined by its mean and standard deviation</td>\n",
    "  </tr>\n",
    "  <tr>\n",
    "    <td   style=\"text-align:center\" >T- distribution is used when the sample size is small</td>\n",
    "    <td style=\"text-align:center\">Normal distribution is used when we have large number of data points in the dataset </td>\n",
    "  </tr>\n",
    "      <tr>\n",
    "    <td   style=\"text-align:center\">It has a heavier tail than normal distribution which means more data points are away from the mean of the distribution \t </td>\n",
    "    <td style=\"text-align:center\">Normal distribution has a lighter tail than T-distribution which means more data points lie near the mean of the distribution</td>\n",
    "  </tr>\n",
    "  <tr>\n",
    "    <td   style=\"text-align:center\">We use T-distribution in hypothesis testing when the standard variation of the population is unknown \t</td>\n",
    "    <td style=\"text-align:center\">Normal distribution is used when the standard deviation is known </td>\n",
    "  </tr>\n",
    "  <tr>\n",
    "    <td   style=\"text-align:center\">T-Distribution has a larger range of critical values as compared to the normal distribution as this distribution has heavier tails \t</td>\n",
    "    <td style=\"text-align:center\">Normal distribution has a smaller range as compared to t-distribution</td>\n",
    "  </tr>\n",
    "</table>\n",
    "\n",
    "\n",
    "\n",
    "\n",
    "\n",
    " "
   ]
  },
  {
   "cell_type": "markdown",
   "metadata": {},
   "source": [
    "#### Calculate degrees of freedom\n",
    "$$\\large{ df  = \\frac {\\left( \\frac{\\bar{\\sigma_1}^2}{n_1} + \\frac{\\bar{\\sigma_2}^2}{n_2} \\right)^2}\n",
    "{\\frac {\\left( \\frac{\\bar{\\sigma_1}^2}{n_1} \\right)^2 }{n_1-1} + \n",
    "\\frac {\\left( \\frac{\\bar{\\sigma_2}^2}{n_2} \\right)^2 }{n_2-1} \n",
    "}} =\n",
    "\\frac {\\left( \\frac{2.4^2}{15} + \\frac{1.7^2}{12} \\right)^2}\n",
    "{\\frac {\\left( \\frac{2.4^2}{15} \\right)^2 }{14} + \n",
    "\\frac {\\left( \\frac{1.7^2}{12} \\right)^2 }{11} \n",
    "} = 24.7 = \\approx 25\n",
    "$$"
   ]
  },
  {
   "cell_type": "code",
   "execution_count": 45,
   "metadata": {},
   "outputs": [
    {
     "data": {
      "text/plain": [
       "24.701534743664148"
      ]
     },
     "execution_count": 45,
     "metadata": {},
     "output_type": "execute_result"
    }
   ],
   "source": [
    "(2.4**2 / 15 + 1.7**2 / 12)**2 / ((2.4**2 / 15 )**2 /14 + (1.7**2 / 12)**2 / 11)"
   ]
  },
  {
   "cell_type": "markdown",
   "metadata": {},
   "source": [
    "### Calculate critical t-value \n",
    "Since significance level $\\alpha= 0.05$, we get the left and right side is $\\alpha/2= 0.025$\n",
    "<br>and so we look the t-value $t(\\alpha,k) =t(0.025,25) $ in the [Student t distribution table](https://www.researchgate.net/profile/Muhammad-Irfan-24/publication/236673256/figure/tbl2/AS:669401397338154@1536609138948/Student-t-distribution-table.png)\n",
    "\n"
   ]
  },
  {
   "cell_type": "markdown",
   "metadata": {},
   "source": [
    "<img src = \"t-table.png\" height=1000 width= 1000 align=\"left\">"
   ]
  },
  {
   "cell_type": "markdown",
   "metadata": {},
   "source": [
    "So $$\\large{t_{critical} = 2.06}$$"
   ]
  },
  {
   "cell_type": "markdown",
   "metadata": {},
   "source": [
    "### Implementation of T-distribition in `scipy`"
   ]
  },
  {
   "cell_type": "code",
   "execution_count": 46,
   "metadata": {},
   "outputs": [
    {
     "name": "stdout",
     "output_type": "stream",
     "text": [
      "to compare the implementation with tabular data : df = 10, alpha =0.05   2.2281388519649385\n",
      "df = {df}, alpha = {alpha}:  2.059538552753294\n"
     ]
    }
   ],
   "source": [
    "from scipy.stats import t\n",
    "alpha = 0.05  # significance level = 5% \n",
    "print ('to compare the implementation with tabular data : df = 10, alpha =0.05  ', t.ppf(1 - alpha/2, 10) )\n",
    "df = 25  # degrees of freedom           \n",
    "t_cr = t.ppf(1 - alpha/2, df) \n",
    "print (r'df = {df}, alpha = {alpha}: ', t_cr )\n"
   ]
  },
  {
   "cell_type": "markdown",
   "metadata": {},
   "source": [
    "### Calculate t-value for means \n",
    "Now we need calculate the $t_{calculated}$\n",
    "\n",
    "\n",
    "$$\\large{ t_{calculated}  = \\frac {(\\bar{x_1}-\\bar{x_2}) - (\\mu_1 - \\mu_2)}\n",
    "{\\sqrt{\\frac{\\sigma_1^2}{n_1}+\\frac{\\sigma_2^2}{n_2}}}=\n",
    "\\frac {(82-84) - 0}\n",
    "{\\sqrt{\\frac{2.4^2}{15}+\\frac{1.7^2}{12}}}\n",
    "} = - 2.53\n",
    "$$"
   ]
  },
  {
   "cell_type": "code",
   "execution_count": 47,
   "metadata": {},
   "outputs": [
    {
     "data": {
      "text/plain": [
       "-2.5301595052287063"
      ]
     },
     "execution_count": 47,
     "metadata": {},
     "output_type": "execute_result"
    }
   ],
   "source": [
    "import math\n",
    "t_c = (82-84)/(math.sqrt(2.4**2/15+1.7**2/12))\n",
    "t_c\n"
   ]
  },
  {
   "cell_type": "code",
   "execution_count": 48,
   "metadata": {
    "scrolled": true
   },
   "outputs": [
    {
     "name": "stdout",
     "output_type": "stream",
     "text": [
      "t_critical= 2.06, t_calculated= -2.53\n"
     ]
    },
    {
     "data": {
      "text/plain": [
       "Text(-2.5301595052287063, 0.040389004730545894, '-2.53')"
      ]
     },
     "execution_count": 48,
     "metadata": {},
     "output_type": "execute_result"
    },
    {
     "data": {
      "image/png": "[encoded data removed]",
      "text/plain": [
       "<Figure size 432x288 with 1 Axes>"
      ]
     },
     "metadata": {
      "needs_background": "light"
     },
     "output_type": "display_data"
    }
   ],
   "source": [
    "print (f't_critical= {t_cr:.2f}, t_calculated= {t_c:.2f}')\n",
    "\n",
    "fig, ax = plt.subplots(1, 1, figsize = (6,4))\n",
    "ax.plot(x, t.pdf(x,df),'-', lw=2, alpha=0.4)\n",
    "x_left = x[(x<t.ppf(alpha/2,df))] \n",
    "x_right = x[(x>t.ppf(1-alpha/2,df))] \n",
    "ax.fill_between(x_right, 0,t.pdf(x_right,df) , facecolors='red',alpha=0.45)  \n",
    "ax.fill_between(x_left, 0,t.pdf(x_left,df) , facecolors='red',alpha=0.45)  \n",
    "\n",
    "ax.plot ([t_c,t_c],[0, t.pdf(t_c,df)], 'g--')\n",
    "\n",
    "ax.text(-t_cr, t.pdf(t_cr,df)+0.03 ,'{:.3}'.format(-t_cr), ha= 'center', va= 'bottom',color= 'black',fontsize= 14)\n",
    "ax.text(t_cr, t.pdf(t_cr,df)+0.03 ,'{:.3}'.format(t_cr), ha= 'center', va= 'bottom',color= 'black',fontsize= 14)\n",
    "ax.text(t_c, t.pdf(t_c, df)+0.02 ,'{:.3}'.format(t_c), ha= 'center', va= 'bottom',color= 'g',fontsize= 14)\n"
   ]
  },
  {
   "cell_type": "markdown",
   "metadata": {},
   "source": [
    "### Conclusion for task for two means \n",
    "\n",
    "$t_{c} = -2.53$ **in Rejection Area**, \n",
    "\n",
    "so $H_0$ is **REJECTED**. \n",
    "\n",
    "We may interpret it as it is **Enough sample size to claim the two means have significant difference**\n"
   ]
  },
  {
   "cell_type": "markdown",
   "metadata": {},
   "source": [
    "---\n",
    "\n",
    "## Summary for hypothesis testing of difference of two means \n",
    "\n",
    "- Define Null and Alternative hypotheses \n",
    "- Determine whether it is normal distribition or T-distribition \n",
    "- Calculate critical T or Z-value from confidence/significance level and calculated degree of freedom\n",
    "- Calculate the T or Z-value for two means \n",
    "- Compare T/Z-calculated and T/Z-critical \n",
    "- Make conclusion towords "
   ]
  },
  {
   "cell_type": "markdown",
   "metadata": {},
   "source": [
    "# Home task "
   ]
  },
  {
   "cell_type": "markdown",
   "metadata": {},
   "source": [
    "## Home Task 1. Hypothesis Testing for Proportions"
   ]
  },
  {
   "cell_type": "markdown",
   "metadata": {},
   "source": [
    "A company believes that percentage of resident in Ternopil own vehicle is `60%` or less. <br>\n",
    "Sales manager disagree. He conducted a test surveying `250` residents and `170` responded yes to owning a vehicle. <br>\n",
    "\n",
    "State the null hypothesis and alternative hypothesis. <br>\n",
    "At 10% significance level, is there enough evidence to reject the null hypothesis?\n",
    "\n",
    "\n",
    "**Note**: \n",
    "- Significance level is opposite to confidence level e.g. 10% significance level means 90% of confidence level.\n",
    "- This is one taled task since is percentage `60%` **OR LESS**"
   ]
  },
  {
   "cell_type": "markdown",
   "metadata": {},
   "source": [
    "### Expected result\n",
    "\n",
    "<img src = \"hometask1_expected.png\" height=500 width= 500 align=\"left\">\n"
   ]
  },
  {
   "cell_type": "markdown",
   "metadata": {},
   "source": [
    "### Solution"
   ]
  },
  {
   "cell_type": "code",
   "execution_count": 49,
   "metadata": {},
   "outputs": [
    {
     "name": "stdout",
     "output_type": "stream",
     "text": [
      "Значення Z-статистики: 2.5819888974716134\n",
      "Критичне значення Z-статистики: 1.2815515655446004\n",
      "Є достатньо доказів для відхилення нульової гіпотези.\n"
     ]
    }
   ],
   "source": [
    "total_residents = 250\n",
    "yes_responses = 170\n",
    "hypothesized_proportion = 0.6\n",
    "alpha = 0.10\n",
    "\n",
    "# Обчислення вибіркової пропорції\n",
    "sample_proportion = yes_responses / total_residents\n",
    "\n",
    "# Обчислення стандартної помилки\n",
    "standard_error = np.sqrt((hypothesized_proportion * (1 - hypothesized_proportion)) / total_residents)\n",
    "\n",
    "# Обчислення z-статистики\n",
    "z_score = (sample_proportion - hypothesized_proportion) / standard_error\n",
    "print(f\"Значення Z-статистики: {z_score}\")\n",
    "\n",
    "# Знаходження критичного значення z для одностороннього тесту\n",
    "critical_z_value = norm.ppf(1 - alpha)\n",
    "print(f\"Критичне значення Z-статистики: {critical_z_value}\")\n",
    "\n",
    "# Порівняння z-статистики з критичним значенням z\n",
    "if z_score > critical_z_value:\n",
    "    print(\"Є достатньо доказів для відхилення нульової гіпотези.\")\n",
    "else:\n",
    "    print(\"Немає достатньо доказів для відхилення нульової гіпотези.\")"
   ]
  },
  {
   "cell_type": "markdown",
   "metadata": {},
   "source": [
    "## Home Task 2. Hypothesis Testing Difference of Two Means \n",
    "\n",
    "A business owner is in the process of deciding whether or not to invest in a new factory that refines oil in order to meet the high demand that commodity. A test showed that the old factory refines oil at a mean rate of `3.1L` per second at a standard deviation of `1.0` using a samp of `40`. <br>\n",
    "The new factory was measured to refine oil at a mean rate of `3.8L` per second at a standard deviation of `1.5` using a sample of `36`.\n",
    "\n",
    "Determine if there is any major difference at 10% significance level"
   ]
  },
  {
   "cell_type": "markdown",
   "metadata": {},
   "source": [
    "**Note**: Since sample size is larger than 30, you may use normal distribution to compute the **z-critical**. \n",
    "\n",
    "To compute the **z-value** (z-calculated for two means) use the same formula as for **t-value** above: \n",
    "\n",
    "$$\\large{ z_{calculated}  = \\frac {(\\bar{x_1}-\\bar{x_2}) - (\\mu_1 - \\mu_2)}\n",
    "{\\sqrt{\\frac{\\sigma_1^2}{n_1}+\\frac{\\sigma_2^2}{n_2}}}}\n",
    "$$"
   ]
  },
  {
   "cell_type": "markdown",
   "metadata": {},
   "source": [
    "### Solution"
   ]
  },
  {
   "cell_type": "code",
   "execution_count": 50,
   "metadata": {},
   "outputs": [
    {
     "name": "stdout",
     "output_type": "stream",
     "text": [
      "На рівні значущості 10.0%, відхиляємо нульову гіпотезу.\n"
     ]
    }
   ],
   "source": [
    "import math\n",
    "\n",
    "\n",
    "x1 = 3.1\n",
    "sigma1 = 1.0\n",
    "n1 = 40\n",
    "\n",
    "x2 = 3.8\n",
    "sigma2 = 1.5\n",
    "n2 = 36\n",
    "\n",
    "alpha = 0.10\n",
    "\n",
    "#Обчислення Z-критерію\n",
    "z_calculated = (x1 - x2) / math.sqrt((sigma1**2 / n1) + (sigma2**2 / n2))\n",
    "\n",
    "# Критичне значення Z для двостороннього тесту\n",
    "z_critical = abs(1.645)  # На рівні значущості 10%\n",
    "\n",
    "if abs(z_calculated) > z_critical:\n",
    "    print(f\"На рівні значущості {alpha*100}%, відхиляємо нульову гіпотезу.\")\n",
    "else:\n",
    "    print(f\"На рівні значущості {alpha*100}%, не відхиляємо нульову гіпотезу.\")"
   ]
  },
  {
   "cell_type": "markdown",
   "metadata": {},
   "source": [
    "[Binomial Distribution](https://www.investopedia.com/terms/b/binomialdistribution.asp)\n",
    "\n",
    "[Python Combinatorics Functions](https://vegibit.com/python-combinatorics-functions/)\n",
    "\n",
    "[Probability Density Function](https://byjus.com/maths/probability-density-function/)\n",
    "    \n",
    "[Random Walk in Python (1D, 2D, and 3D with Examples)](https://www.codingem.com/random-walk-in-python/)\n",
    "\n",
    "[Solving Problems With Proportions](https://youtu.be/76VruarGn2Q)\n",
    "\n",
    "[Hypothesis Test for a Proportion](https://stattrek.com/hypothesis-test/proportion)\n",
    "\n",
    "[Student’s t-distribution in Statistics](https://www.geeksforgeeks.org/students-t-distribution-in-statistics/)"
   ]
  },
  {
   "cell_type": "code",
   "execution_count": null,
   "metadata": {},
   "outputs": [],
   "source": []
  }
 ],
 "metadata": {
  "kernelspec": {
   "display_name": "Python 3",
   "language": "python",
   "name": "python3"
  },
  "language_info": {
   "codemirror_mode": {
    "name": "ipython",
    "version": 3
   },
   "file_extension": ".py",
   "mimetype": "text/x-python",
   "name": "python",
   "nbconvert_exporter": "python",
   "pygments_lexer": "ipython3",
   "version": "3.7.6"
  }
 },
 "nbformat": 4,
 "nbformat_minor": 4
}
