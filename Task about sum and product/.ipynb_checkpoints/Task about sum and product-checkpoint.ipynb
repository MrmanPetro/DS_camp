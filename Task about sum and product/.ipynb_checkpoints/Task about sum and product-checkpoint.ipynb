{
 "cells": [
  {
   "cell_type": "code",
   "execution_count": 1,
   "metadata": {},
   "outputs": [
    {
     "data": {
      "text/plain": [
       "(4, 13)"
      ]
     },
     "execution_count": 1,
     "metadata": {},
     "output_type": "execute_result"
    }
   ],
   "source": [
    "import pandas as pd\n",
    "\n",
    "\n",
    "# Функція для перевірки, чи є число простим\n",
    "def is_prime(num):\n",
    "    if num < 2:\n",
    "        return False\n",
    "    for i in range(2, int(num**0.5) + 1):\n",
    "        if num % i == 0:\n",
    "            return False\n",
    "    return True\n",
    "\n",
    "\n",
    "# Створення списку усіх можливих пар чисел від 2 до 99\n",
    "numbers = [(a, b) for a in range(2, 100) for b in range(a, 100)]\n",
    "\n",
    "# Розраховування суми і добутку для кожної пари\n",
    "sums = [sum(pair) for pair in numbers]\n",
    "products = [pair[0]*pair[1] for pair in numbers]\n",
    "\n",
    "# Створення DataFrame\n",
    "df = pd.DataFrame({'number': numbers, 'sum': sums, 'product': products})\n",
    "\n",
    "# Вибір рядків, де сума є непарним числом, і менша або рівна 55\n",
    "df = df[df['sum'] % 2 != 0]\n",
    "df = df[df['sum'] <= 55]\n",
    "\n",
    "# Вилучення рядків з DataFrame, які задовольняють умові\n",
    "df = df[~(df['sum'] - 2).apply(is_prime)]\n",
    "\n",
    "# Видалення рядків, які задовольняють певним умовам на основі перевірки простих чисел\n",
    "for i, j in df['number']:\n",
    "    if is_prime(i) == False and is_prime(j) == False or is_prime(i) == True and is_prime(j) == True:\n",
    "        df = df.drop(df[df['number'] == (i,j)].index)\n",
    "\n",
    "# Видалення дублікатів в стовпцях 'product' та 'sum'      \n",
    "df = df.drop_duplicates(subset=['product'], keep=False)\n",
    "df = df.drop_duplicates(subset=['sum'], keep=False)\n",
    "\n",
    "# Виведення рішення завдання\n",
    "df['number'].iloc[0]"
   ]
  },
  {
   "cell_type": "code",
   "execution_count": null,
   "metadata": {},
   "outputs": [],
   "source": []
  }
 ],
 "metadata": {
  "kernelspec": {
   "display_name": "Python 3",
   "language": "python",
   "name": "python3"
  },
  "language_info": {
   "codemirror_mode": {
    "name": "ipython",
    "version": 3
   },
   "file_extension": ".py",
   "mimetype": "text/x-python",
   "name": "python",
   "nbconvert_exporter": "python",
   "pygments_lexer": "ipython3",
   "version": "3.7.6"
  }
 },
 "nbformat": 4,
 "nbformat_minor": 4
}
